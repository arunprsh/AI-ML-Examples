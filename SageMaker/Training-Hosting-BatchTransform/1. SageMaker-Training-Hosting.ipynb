{
 "cells": [
  {
   "cell_type": "markdown",
   "metadata": {},
   "source": [
    "### Imports "
   ]
  },
  {
   "cell_type": "code",
   "execution_count": 1,
   "metadata": {},
   "outputs": [],
   "source": [
    "# ML Imports \n",
    "from sklearn.preprocessing import LabelEncoder, MinMaxScaler\n",
    "from sklearn.model_selection import train_test_split\n",
    "import pandas as pd\n",
    "import numpy as np\n",
    "import json\n",
    "import os\n",
    "\n",
    "# AWS Imports \n",
    "from sagemaker.amazon.amazon_estimator import get_image_uri\n",
    "from sagemaker.predictor import csv_serializer\n",
    "from sagemaker import get_execution_role\n",
    "import sagemaker\n",
    "import boto3"
   ]
  },
  {
   "cell_type": "markdown",
   "metadata": {},
   "source": [
    "### 1. Load & Prep Data"
   ]
  },
  {
   "cell_type": "markdown",
   "metadata": {},
   "source": [
    "The <a href='https://homepages.inf.ed.ac.uk/imurray2/teaching/oranges_and_lemons/'>Fruits Dataset</a> was originally created by Dr. Iain Murray from University of Edinburgh and extended more recently by the University of Michigan. It is a simple multi-class dataset with 4 columns (features) and 4 classes (fruits). The 4 classes are apple, orange, mandarin and lemon. The four features are mass, width, height and color score of the fruit.\n",
    "\n",
    "The color score feature maps to a color and its intensity in the color spectrum (0 - 1) scale. <br><br>\n",
    "<table align=\"left\" style=\"width:50%\">\n",
    "    <tr>\n",
    "        <th>Color</th>\n",
    "        <th>Range</th>\n",
    "    </tr>\n",
    "    <tr>\n",
    "        <td>Red</td>\n",
    "        <td>0.85 - 1.00</td>\n",
    "    </tr>\n",
    "    <tr>\n",
    "        <td>Orange</td>\n",
    "        <td>0.75 - 0.85</td>\n",
    "    </tr>\n",
    "    <tr>\n",
    "        <td>Yellow</td>\n",
    "        <td>0.65 - 0.75</td>\n",
    "    </tr>\n",
    "    <tr>\n",
    "        <td>Green</td>\n",
    "        <td>0.45 - 0.65</td>\n",
    "    </tr>\n",
    "</table>"
   ]
  },
  {
   "cell_type": "code",
   "execution_count": 2,
   "metadata": {},
   "outputs": [],
   "source": [
    "df = pd.read_csv('./DATA/fruits.csv', names=['class', 'mass', 'width', 'height', 'color_score'])"
   ]
  },
  {
   "cell_type": "code",
   "execution_count": 3,
   "metadata": {},
   "outputs": [
    {
     "data": {
      "text/html": [
       "<div>\n",
       "<style scoped>\n",
       "    .dataframe tbody tr th:only-of-type {\n",
       "        vertical-align: middle;\n",
       "    }\n",
       "\n",
       "    .dataframe tbody tr th {\n",
       "        vertical-align: top;\n",
       "    }\n",
       "\n",
       "    .dataframe thead th {\n",
       "        text-align: right;\n",
       "    }\n",
       "</style>\n",
       "<table border=\"1\" class=\"dataframe\">\n",
       "  <thead>\n",
       "    <tr style=\"text-align: right;\">\n",
       "      <th></th>\n",
       "      <th>class</th>\n",
       "      <th>mass</th>\n",
       "      <th>width</th>\n",
       "      <th>height</th>\n",
       "      <th>color_score</th>\n",
       "    </tr>\n",
       "  </thead>\n",
       "  <tbody>\n",
       "    <tr>\n",
       "      <th>15</th>\n",
       "      <td>apple</td>\n",
       "      <td>156</td>\n",
       "      <td>7.7</td>\n",
       "      <td>7.1</td>\n",
       "      <td>0.69</td>\n",
       "    </tr>\n",
       "    <tr>\n",
       "      <th>9</th>\n",
       "      <td>apple</td>\n",
       "      <td>172</td>\n",
       "      <td>7.4</td>\n",
       "      <td>7.0</td>\n",
       "      <td>0.89</td>\n",
       "    </tr>\n",
       "    <tr>\n",
       "      <th>3</th>\n",
       "      <td>mandarin</td>\n",
       "      <td>86</td>\n",
       "      <td>6.2</td>\n",
       "      <td>4.7</td>\n",
       "      <td>0.80</td>\n",
       "    </tr>\n",
       "    <tr>\n",
       "      <th>39</th>\n",
       "      <td>orange</td>\n",
       "      <td>144</td>\n",
       "      <td>6.8</td>\n",
       "      <td>7.4</td>\n",
       "      <td>0.75</td>\n",
       "    </tr>\n",
       "    <tr>\n",
       "      <th>27</th>\n",
       "      <td>orange</td>\n",
       "      <td>204</td>\n",
       "      <td>7.5</td>\n",
       "      <td>9.2</td>\n",
       "      <td>0.77</td>\n",
       "    </tr>\n",
       "    <tr>\n",
       "      <th>24</th>\n",
       "      <td>orange</td>\n",
       "      <td>342</td>\n",
       "      <td>9.0</td>\n",
       "      <td>9.4</td>\n",
       "      <td>0.75</td>\n",
       "    </tr>\n",
       "    <tr>\n",
       "      <th>5</th>\n",
       "      <td>mandarin</td>\n",
       "      <td>80</td>\n",
       "      <td>5.8</td>\n",
       "      <td>4.3</td>\n",
       "      <td>0.77</td>\n",
       "    </tr>\n",
       "    <tr>\n",
       "      <th>13</th>\n",
       "      <td>apple</td>\n",
       "      <td>164</td>\n",
       "      <td>7.3</td>\n",
       "      <td>7.7</td>\n",
       "      <td>0.70</td>\n",
       "    </tr>\n",
       "    <tr>\n",
       "      <th>35</th>\n",
       "      <td>orange</td>\n",
       "      <td>150</td>\n",
       "      <td>7.1</td>\n",
       "      <td>7.9</td>\n",
       "      <td>0.75</td>\n",
       "    </tr>\n",
       "    <tr>\n",
       "      <th>7</th>\n",
       "      <td>mandarin</td>\n",
       "      <td>76</td>\n",
       "      <td>5.8</td>\n",
       "      <td>4.0</td>\n",
       "      <td>0.81</td>\n",
       "    </tr>\n",
       "  </tbody>\n",
       "</table>\n",
       "</div>"
      ],
      "text/plain": [
       "       class  mass  width  height  color_score\n",
       "15     apple   156    7.7     7.1         0.69\n",
       "9      apple   172    7.4     7.0         0.89\n",
       "3   mandarin    86    6.2     4.7         0.80\n",
       "39    orange   144    6.8     7.4         0.75\n",
       "27    orange   204    7.5     9.2         0.77\n",
       "24    orange   342    9.0     9.4         0.75\n",
       "5   mandarin    80    5.8     4.3         0.77\n",
       "13     apple   164    7.3     7.7         0.70\n",
       "35    orange   150    7.1     7.9         0.75\n",
       "7   mandarin    76    5.8     4.0         0.81"
      ]
     },
     "execution_count": 3,
     "metadata": {},
     "output_type": "execute_result"
    }
   ],
   "source": [
    "df.sample(10)"
   ]
  },
  {
   "cell_type": "code",
   "execution_count": 4,
   "metadata": {},
   "outputs": [
    {
     "data": {
      "text/plain": [
       "(59, 5)"
      ]
     },
     "execution_count": 4,
     "metadata": {},
     "output_type": "execute_result"
    }
   ],
   "source": [
    "df.shape"
   ]
  },
  {
   "cell_type": "code",
   "execution_count": 5,
   "metadata": {},
   "outputs": [
    {
     "data": {
      "text/plain": [
       "['apple', 'mandarin', 'orange', 'lemon']"
      ]
     },
     "execution_count": 5,
     "metadata": {},
     "output_type": "execute_result"
    }
   ],
   "source": [
    "df['class'].unique().tolist()"
   ]
  },
  {
   "cell_type": "code",
   "execution_count": 6,
   "metadata": {},
   "outputs": [],
   "source": [
    "X = df[['mass', 'width', 'height', 'color_score']]\n",
    "y = df['class']"
   ]
  },
  {
   "cell_type": "markdown",
   "metadata": {},
   "source": [
    "##### Encode the classes into numerical values using Sklearn's LabelEncoder"
   ]
  },
  {
   "cell_type": "code",
   "execution_count": 7,
   "metadata": {},
   "outputs": [],
   "source": [
    "label_encoder = LabelEncoder()\n",
    "label_encoder.fit(['apple', 'orange', 'mandarin', 'lemon'])\n",
    "y = label_encoder.transform(y)"
   ]
  },
  {
   "cell_type": "code",
   "execution_count": 8,
   "metadata": {},
   "outputs": [
    {
     "data": {
      "text/plain": [
       "array([0, 0, 0, 2, 2, 2, 2, 2, 0, 0, 0, 0, 0, 0, 0, 0, 0, 0, 0, 0, 0, 0,\n",
       "       0, 0, 3, 3, 3, 3, 3, 3, 3, 3, 3, 3, 3, 3, 3, 3, 3, 3, 3, 3, 3, 1,\n",
       "       1, 1, 1, 1, 1, 1, 1, 1, 1, 1, 1, 1, 1, 1, 1])"
      ]
     },
     "execution_count": 8,
     "metadata": {},
     "output_type": "execute_result"
    }
   ],
   "source": [
    "y"
   ]
  },
  {
   "cell_type": "markdown",
   "metadata": {},
   "source": [
    "##### Split X, y into train and test sets"
   ]
  },
  {
   "cell_type": "code",
   "execution_count": 9,
   "metadata": {},
   "outputs": [],
   "source": [
    "X_train, X_test, y_train, y_test = train_test_split(X, y, random_state=123)"
   ]
  },
  {
   "cell_type": "code",
   "execution_count": 10,
   "metadata": {},
   "outputs": [
    {
     "data": {
      "text/plain": [
       "(44, 4)"
      ]
     },
     "execution_count": 10,
     "metadata": {},
     "output_type": "execute_result"
    }
   ],
   "source": [
    "X_train.shape"
   ]
  },
  {
   "cell_type": "code",
   "execution_count": 11,
   "metadata": {},
   "outputs": [
    {
     "data": {
      "text/plain": [
       "(15, 4)"
      ]
     },
     "execution_count": 11,
     "metadata": {},
     "output_type": "execute_result"
    }
   ],
   "source": [
    "X_test.shape"
   ]
  },
  {
   "cell_type": "markdown",
   "metadata": {},
   "source": [
    "##### Scale feature columns using Sklearn's MinMaxScaler"
   ]
  },
  {
   "cell_type": "code",
   "execution_count": 12,
   "metadata": {},
   "outputs": [],
   "source": [
    "scaler = MinMaxScaler()\n",
    "X_train = scaler.fit_transform(X_train)\n",
    "X_test = scaler.transform(X_test)"
   ]
  },
  {
   "cell_type": "code",
   "execution_count": 13,
   "metadata": {},
   "outputs": [
    {
     "data": {
      "text/plain": [
       "array([0.32142857, 0.32352941, 0.50769231, 1.        ])"
      ]
     },
     "execution_count": 13,
     "metadata": {},
     "output_type": "execute_result"
    }
   ],
   "source": [
    "X_train[0]"
   ]
  },
  {
   "cell_type": "code",
   "execution_count": 14,
   "metadata": {},
   "outputs": [
    {
     "data": {
      "text/plain": [
       "0"
      ]
     },
     "execution_count": 14,
     "metadata": {},
     "output_type": "execute_result"
    }
   ],
   "source": [
    "y_train[0]"
   ]
  },
  {
   "cell_type": "code",
   "execution_count": 15,
   "metadata": {},
   "outputs": [
    {
     "name": "stdout",
     "output_type": "stream",
     "text": [
      "<class 'numpy.ndarray'> <class 'numpy.ndarray'>\n"
     ]
    }
   ],
   "source": [
    "print(type(X_train), type(y_train))"
   ]
  },
  {
   "cell_type": "markdown",
   "metadata": {},
   "source": [
    "##### Combine Scaled X & y into Train and Test DataFrames "
   ]
  },
  {
   "cell_type": "code",
   "execution_count": 16,
   "metadata": {},
   "outputs": [
    {
     "data": {
      "text/html": [
       "<div>\n",
       "<style scoped>\n",
       "    .dataframe tbody tr th:only-of-type {\n",
       "        vertical-align: middle;\n",
       "    }\n",
       "\n",
       "    .dataframe tbody tr th {\n",
       "        vertical-align: top;\n",
       "    }\n",
       "\n",
       "    .dataframe thead th {\n",
       "        text-align: right;\n",
       "    }\n",
       "</style>\n",
       "<table border=\"1\" class=\"dataframe\">\n",
       "  <thead>\n",
       "    <tr style=\"text-align: right;\">\n",
       "      <th></th>\n",
       "      <th>class</th>\n",
       "      <th>mass</th>\n",
       "      <th>width</th>\n",
       "      <th>height</th>\n",
       "      <th>color_score</th>\n",
       "    </tr>\n",
       "  </thead>\n",
       "  <tbody>\n",
       "    <tr>\n",
       "      <th>0</th>\n",
       "      <td>0</td>\n",
       "      <td>0.321429</td>\n",
       "      <td>0.323529</td>\n",
       "      <td>0.507692</td>\n",
       "      <td>1.000000</td>\n",
       "    </tr>\n",
       "    <tr>\n",
       "      <th>1</th>\n",
       "      <td>1</td>\n",
       "      <td>0.421429</td>\n",
       "      <td>0.411765</td>\n",
       "      <td>0.969231</td>\n",
       "      <td>0.323529</td>\n",
       "    </tr>\n",
       "    <tr>\n",
       "      <th>2</th>\n",
       "      <td>0</td>\n",
       "      <td>0.364286</td>\n",
       "      <td>0.382353</td>\n",
       "      <td>0.584615</td>\n",
       "      <td>0.970588</td>\n",
       "    </tr>\n",
       "    <tr>\n",
       "      <th>3</th>\n",
       "      <td>0</td>\n",
       "      <td>0.278571</td>\n",
       "      <td>0.352941</td>\n",
       "      <td>0.476923</td>\n",
       "      <td>0.852941</td>\n",
       "    </tr>\n",
       "    <tr>\n",
       "      <th>4</th>\n",
       "      <td>1</td>\n",
       "      <td>0.192857</td>\n",
       "      <td>0.058824</td>\n",
       "      <td>0.646154</td>\n",
       "      <td>0.352941</td>\n",
       "    </tr>\n",
       "  </tbody>\n",
       "</table>\n",
       "</div>"
      ],
      "text/plain": [
       "   class      mass     width    height  color_score\n",
       "0      0  0.321429  0.323529  0.507692     1.000000\n",
       "1      1  0.421429  0.411765  0.969231     0.323529\n",
       "2      0  0.364286  0.382353  0.584615     0.970588\n",
       "3      0  0.278571  0.352941  0.476923     0.852941\n",
       "4      1  0.192857  0.058824  0.646154     0.352941"
      ]
     },
     "execution_count": 16,
     "metadata": {},
     "output_type": "execute_result"
    }
   ],
   "source": [
    "X_train = pd.DataFrame(X_train, columns=['mass', 'width', 'height', 'color_score'])\n",
    "y_train = pd.DataFrame(y_train, columns=['class'])\n",
    "train_df = pd.concat([y_train, X_train], axis=1)\n",
    "train_df.head()"
   ]
  },
  {
   "cell_type": "code",
   "execution_count": 17,
   "metadata": {},
   "outputs": [
    {
     "data": {
      "text/html": [
       "<div>\n",
       "<style scoped>\n",
       "    .dataframe tbody tr th:only-of-type {\n",
       "        vertical-align: middle;\n",
       "    }\n",
       "\n",
       "    .dataframe tbody tr th {\n",
       "        vertical-align: top;\n",
       "    }\n",
       "\n",
       "    .dataframe thead th {\n",
       "        text-align: right;\n",
       "    }\n",
       "</style>\n",
       "<table border=\"1\" class=\"dataframe\">\n",
       "  <thead>\n",
       "    <tr style=\"text-align: right;\">\n",
       "      <th></th>\n",
       "      <th>class</th>\n",
       "      <th>mass</th>\n",
       "      <th>width</th>\n",
       "      <th>height</th>\n",
       "      <th>color_score</th>\n",
       "    </tr>\n",
       "  </thead>\n",
       "  <tbody>\n",
       "    <tr>\n",
       "      <th>0</th>\n",
       "      <td>1</td>\n",
       "      <td>0.142857</td>\n",
       "      <td>0.058824</td>\n",
       "      <td>0.538462</td>\n",
       "      <td>0.382353</td>\n",
       "    </tr>\n",
       "    <tr>\n",
       "      <th>1</th>\n",
       "      <td>3</td>\n",
       "      <td>0.371429</td>\n",
       "      <td>0.529412</td>\n",
       "      <td>0.646154</td>\n",
       "      <td>0.588235</td>\n",
       "    </tr>\n",
       "    <tr>\n",
       "      <th>2</th>\n",
       "      <td>0</td>\n",
       "      <td>0.314286</td>\n",
       "      <td>0.441176</td>\n",
       "      <td>0.569231</td>\n",
       "      <td>0.323529</td>\n",
       "    </tr>\n",
       "    <tr>\n",
       "      <th>3</th>\n",
       "      <td>1</td>\n",
       "      <td>0.157143</td>\n",
       "      <td>0.058824</td>\n",
       "      <td>0.676923</td>\n",
       "      <td>0.441176</td>\n",
       "    </tr>\n",
       "    <tr>\n",
       "      <th>4</th>\n",
       "      <td>3</td>\n",
       "      <td>0.457143</td>\n",
       "      <td>0.500000</td>\n",
       "      <td>0.800000</td>\n",
       "      <td>0.529412</td>\n",
       "    </tr>\n",
       "  </tbody>\n",
       "</table>\n",
       "</div>"
      ],
      "text/plain": [
       "   class      mass     width    height  color_score\n",
       "0      1  0.142857  0.058824  0.538462     0.382353\n",
       "1      3  0.371429  0.529412  0.646154     0.588235\n",
       "2      0  0.314286  0.441176  0.569231     0.323529\n",
       "3      1  0.157143  0.058824  0.676923     0.441176\n",
       "4      3  0.457143  0.500000  0.800000     0.529412"
      ]
     },
     "execution_count": 17,
     "metadata": {},
     "output_type": "execute_result"
    }
   ],
   "source": [
    "X_test = pd.DataFrame(X_test, columns=['mass', 'width', 'height', 'color_score'])\n",
    "y_test = pd.DataFrame(y_test, columns=['class'])\n",
    "test_df = pd.concat([y_test, X_test], axis=1)\n",
    "test_df.head()"
   ]
  },
  {
   "cell_type": "markdown",
   "metadata": {},
   "source": [
    "##### Create a DataFrame for Batch Inference without the Class column"
   ]
  },
  {
   "cell_type": "code",
   "execution_count": 42,
   "metadata": {},
   "outputs": [
    {
     "data": {
      "text/html": [
       "<div>\n",
       "<style scoped>\n",
       "    .dataframe tbody tr th:only-of-type {\n",
       "        vertical-align: middle;\n",
       "    }\n",
       "\n",
       "    .dataframe tbody tr th {\n",
       "        vertical-align: top;\n",
       "    }\n",
       "\n",
       "    .dataframe thead th {\n",
       "        text-align: right;\n",
       "    }\n",
       "</style>\n",
       "<table border=\"1\" class=\"dataframe\">\n",
       "  <thead>\n",
       "    <tr style=\"text-align: right;\">\n",
       "      <th></th>\n",
       "      <th>mass</th>\n",
       "      <th>width</th>\n",
       "      <th>height</th>\n",
       "      <th>color_score</th>\n",
       "    </tr>\n",
       "  </thead>\n",
       "  <tbody>\n",
       "    <tr>\n",
       "      <th>0</th>\n",
       "      <td>0.142857</td>\n",
       "      <td>0.058824</td>\n",
       "      <td>0.538462</td>\n",
       "      <td>0.382353</td>\n",
       "    </tr>\n",
       "    <tr>\n",
       "      <th>1</th>\n",
       "      <td>0.371429</td>\n",
       "      <td>0.529412</td>\n",
       "      <td>0.646154</td>\n",
       "      <td>0.588235</td>\n",
       "    </tr>\n",
       "    <tr>\n",
       "      <th>2</th>\n",
       "      <td>0.314286</td>\n",
       "      <td>0.441176</td>\n",
       "      <td>0.569231</td>\n",
       "      <td>0.323529</td>\n",
       "    </tr>\n",
       "    <tr>\n",
       "      <th>3</th>\n",
       "      <td>0.157143</td>\n",
       "      <td>0.058824</td>\n",
       "      <td>0.676923</td>\n",
       "      <td>0.441176</td>\n",
       "    </tr>\n",
       "    <tr>\n",
       "      <th>4</th>\n",
       "      <td>0.457143</td>\n",
       "      <td>0.500000</td>\n",
       "      <td>0.800000</td>\n",
       "      <td>0.529412</td>\n",
       "    </tr>\n",
       "  </tbody>\n",
       "</table>\n",
       "</div>"
      ],
      "text/plain": [
       "       mass     width    height  color_score\n",
       "0  0.142857  0.058824  0.538462     0.382353\n",
       "1  0.371429  0.529412  0.646154     0.588235\n",
       "2  0.314286  0.441176  0.569231     0.323529\n",
       "3  0.157143  0.058824  0.676923     0.441176\n",
       "4  0.457143  0.500000  0.800000     0.529412"
      ]
     },
     "execution_count": 42,
     "metadata": {},
     "output_type": "execute_result"
    }
   ],
   "source": [
    "batch_test_df = test_df.drop(['class'], axis=1)\n",
    "batch_test_df.head()"
   ]
  },
  {
   "cell_type": "markdown",
   "metadata": {},
   "source": [
    "##### Write Train & Test Sets to Local Directory"
   ]
  },
  {
   "cell_type": "code",
   "execution_count": 43,
   "metadata": {},
   "outputs": [],
   "source": [
    "train_df.to_csv('./DATA/train.csv', header=False, index=False)\n",
    "test_df.to_csv('./DATA/test.csv', header=False, index=False)\n",
    "batch_test_df.to_csv('./DATA/batch_test.csv', header=False, index=False)"
   ]
  },
  {
   "cell_type": "markdown",
   "metadata": {},
   "source": [
    "### 2. Essentials "
   ]
  },
  {
   "cell_type": "code",
   "execution_count": 44,
   "metadata": {},
   "outputs": [
    {
     "name": "stdout",
     "output_type": "stream",
     "text": [
      "Role = arn:aws:iam::892313895307:role/SageMakerPersonalizeForecastRole\n"
     ]
    }
   ],
   "source": [
    "# Get the Execution Role for this Notebook and AWS Session to create Clients\n",
    "sagemaker_execution_role = get_execution_role()\n",
    "print('Role = {}'.format(sagemaker_execution_role))\n",
    "session = boto3.Session()\n",
    "\n",
    "# Clients and Resources\n",
    "s3 = session.resource('s3')\n",
    "sagemaker_session = sagemaker.Session()\n",
    "\n",
    "BUCKET = 'sagemaker-demo-892313895307' # USE YOUR ACCOUNT ID OR INITIALS AS SUFFIX\n",
    "PREFIX = 'fruits-clf'"
   ]
  },
  {
   "cell_type": "markdown",
   "metadata": {},
   "source": [
    "##### Upload Train & Test Sets to S3 and Create Pointers to Data"
   ]
  },
  {
   "cell_type": "code",
   "execution_count": 45,
   "metadata": {},
   "outputs": [
    {
     "data": {
      "text/plain": [
       "s3.Bucket(name='sagemaker-demo-892313895307')"
      ]
     },
     "execution_count": 45,
     "metadata": {},
     "output_type": "execute_result"
    }
   ],
   "source": [
    "s3.create_bucket(Bucket=BUCKET)"
   ]
  },
  {
   "cell_type": "code",
   "execution_count": 46,
   "metadata": {},
   "outputs": [],
   "source": [
    "s3.Bucket(BUCKET).Object(os.path.join(PREFIX, 'train/train.csv')).upload_file('./DATA/train.csv')\n",
    "s3.Bucket(BUCKET).Object(os.path.join(PREFIX, 'test/test.csv')).upload_file('./DATA/test.csv')\n",
    "s3.Bucket(BUCKET).Object(os.path.join(PREFIX, 'batch_test/batch_test.csv')).upload_file('./DATA/batch_test.csv')"
   ]
  },
  {
   "cell_type": "markdown",
   "metadata": {},
   "source": [
    "##### Create Pointers to the uploaded files "
   ]
  },
  {
   "cell_type": "code",
   "execution_count": 22,
   "metadata": {},
   "outputs": [],
   "source": [
    "train_set_location = 's3://{}/{}/train/'.format(BUCKET, PREFIX)\n",
    "test_set_location = 's3://{}/{}/test/'.format(BUCKET, PREFIX)"
   ]
  },
  {
   "cell_type": "code",
   "execution_count": 23,
   "metadata": {},
   "outputs": [
    {
     "name": "stdout",
     "output_type": "stream",
     "text": [
      "s3://sagemaker-demo-892313895307/fruits-clf/train/\n",
      "s3://sagemaker-demo-892313895307/fruits-clf/test/\n"
     ]
    }
   ],
   "source": [
    "print(train_set_location)\n",
    "print(test_set_location)"
   ]
  },
  {
   "cell_type": "code",
   "execution_count": 24,
   "metadata": {},
   "outputs": [
    {
     "name": "stderr",
     "output_type": "stream",
     "text": [
      "'s3_input' class will be renamed to 'TrainingInput' in SageMaker Python SDK v2.\n",
      "'s3_input' class will be renamed to 'TrainingInput' in SageMaker Python SDK v2.\n"
     ]
    }
   ],
   "source": [
    "train_set_pointer = sagemaker.s3_input(s3_data=train_set_location, content_type='csv')\n",
    "test_set_pointer = sagemaker.s3_input(s3_data=test_set_location, content_type='csv')"
   ]
  },
  {
   "cell_type": "code",
   "execution_count": 25,
   "metadata": {},
   "outputs": [
    {
     "name": "stdout",
     "output_type": "stream",
     "text": [
      "{\n",
      "  \"config\": {\n",
      "    \"DataSource\": {\n",
      "      \"S3DataSource\": {\n",
      "        \"S3DataType\": \"S3Prefix\",\n",
      "        \"S3Uri\": \"s3://sagemaker-demo-892313895307/fruits-clf/train/\",\n",
      "        \"S3DataDistributionType\": \"FullyReplicated\"\n",
      "      }\n",
      "    },\n",
      "    \"ContentType\": \"csv\"\n",
      "  }\n",
      "}\n"
     ]
    }
   ],
   "source": [
    "print(json.dumps(train_set_pointer.__dict__, indent=2))"
   ]
  },
  {
   "cell_type": "markdown",
   "metadata": {},
   "source": [
    "### 3. Train a Model using SageMaker + Builtin XgBoost Algorithm"
   ]
  },
  {
   "cell_type": "code",
   "execution_count": 26,
   "metadata": {},
   "outputs": [
    {
     "name": "stderr",
     "output_type": "stream",
     "text": [
      "'get_image_uri' method will be deprecated in favor of 'ImageURIProvider' class in SageMaker Python SDK v2.\n"
     ]
    }
   ],
   "source": [
    "container_uri = get_image_uri(session.region_name, 'xgboost', '1.0-1')"
   ]
  },
  {
   "cell_type": "code",
   "execution_count": 27,
   "metadata": {},
   "outputs": [
    {
     "name": "stderr",
     "output_type": "stream",
     "text": [
      "Parameter image_name will be renamed to image_uri in SageMaker Python SDK v2.\n"
     ]
    }
   ],
   "source": [
    "xgb = sagemaker.estimator.Estimator(image_name=container_uri,\n",
    "                                    role=sagemaker_execution_role, \n",
    "                                    train_instance_count=2, \n",
    "                                    train_instance_type='ml.m5.large',\n",
    "                                    output_path='s3://{}/{}/model-artifacts'.format(BUCKET, PREFIX),\n",
    "                                    sagemaker_session=sagemaker_session,\n",
    "                                    base_job_name='fruits-clf-xgboost')\n",
    "\n",
    "xgb.set_hyperparameters(objective='multi:softmax',\n",
    "                        num_class=4,\n",
    "                        num_round=100)"
   ]
  },
  {
   "cell_type": "code",
   "execution_count": 28,
   "metadata": {},
   "outputs": [
    {
     "name": "stdout",
     "output_type": "stream",
     "text": [
      "2020-10-21 19:34:32 Starting - Starting the training job...\n",
      "2020-10-21 19:34:35 Starting - Launching requested ML instances......\n",
      "2020-10-21 19:35:49 Starting - Preparing the instances for training......\n",
      "2020-10-21 19:36:47 Downloading - Downloading input data...\n",
      "2020-10-21 19:37:20 Training - Downloading the training image.\u001b[34mINFO:sagemaker-containers:Imported framework sagemaker_xgboost_container.training\u001b[0m\n",
      "\u001b[34mINFO:sagemaker-containers:Failed to parse hyperparameter objective value multi:softmax to Json.\u001b[0m\n",
      "\u001b[34mReturning the value itself\u001b[0m\n",
      "\u001b[34mINFO:sagemaker-containers:No GPUs detected (normal if no gpus installed)\u001b[0m\n",
      "\u001b[34mINFO:sagemaker_xgboost_container.training:Running XGBoost Sagemaker in algorithm mode\u001b[0m\n",
      "\u001b[34mINFO:root:Determined delimiter of CSV input is ','\u001b[0m\n",
      "\u001b[34mINFO:root:Determined delimiter of CSV input is ','\u001b[0m\n",
      "\u001b[34mINFO:root:Determined delimiter of CSV input is ','\u001b[0m\n",
      "\u001b[34m[19:37:39] 44x4 matrix with 176 entries loaded from /opt/ml/input/data/train?format=csv&label_column=0&delimiter=,\u001b[0m\n",
      "\u001b[34mINFO:root:Determined delimiter of CSV input is ','\u001b[0m\n",
      "\u001b[34m[19:37:39] 15x4 matrix with 60 entries loaded from /opt/ml/input/data/validation?format=csv&label_column=0&delimiter=,\u001b[0m\n",
      "\u001b[34mINFO:root:Distributed node training with 2 hosts: ['algo-1', 'algo-2']\u001b[0m\n",
      "\u001b[35mINFO:RabitContextManager:Failed to connect to RabitTracker on attempt 0\u001b[0m\n",
      "\u001b[35mINFO:RabitContextManager:Sleeping for 3 sec before retrying\u001b[0m\n",
      "\u001b[34mINFO:sagemaker-containers:Imported framework sagemaker_xgboost_container.training\u001b[0m\n",
      "\u001b[34mINFO:sagemaker-containers:Failed to parse hyperparameter objective value multi:softmax to Json.\u001b[0m\n",
      "\u001b[34mReturning the value itself\u001b[0m\n",
      "\u001b[34mINFO:sagemaker-containers:No GPUs detected (normal if no gpus installed)\u001b[0m\n",
      "\u001b[34mINFO:sagemaker_xgboost_container.training:Running XGBoost Sagemaker in algorithm mode\u001b[0m\n",
      "\u001b[34mINFO:root:Determined delimiter of CSV input is ','\u001b[0m\n",
      "\u001b[34mINFO:root:Determined delimiter of CSV input is ','\u001b[0m\n",
      "\u001b[34mINFO:root:Determined delimiter of CSV input is ','\u001b[0m\n",
      "\u001b[34m[19:37:46] 44x4 matrix with 176 entries loaded from /opt/ml/input/data/train?format=csv&label_column=0&delimiter=,\u001b[0m\n",
      "\u001b[34mINFO:root:Determined delimiter of CSV input is ','\u001b[0m\n",
      "\u001b[34m[19:37:46] 15x4 matrix with 60 entries loaded from /opt/ml/input/data/validation?format=csv&label_column=0&delimiter=,\u001b[0m\n",
      "\u001b[34mINFO:root:Distributed node training with 2 hosts: ['algo-1', 'algo-2']\u001b[0m\n",
      "\u001b[34mINFO:RabitTracker:start listen on algo-1:9099\u001b[0m\n",
      "\u001b[34mINFO:RabitContextManager:Rabit slave environment: {'DMLC_TRACKER_URI': 'algo-1', 'DMLC_TRACKER_PORT': 9099}\u001b[0m\n",
      "\u001b[34mINFO:RabitContextManager:Connected to RabitTracker.\u001b[0m\n",
      "\u001b[34mINFO:RabitTracker:No data received from connection ('10.0.226.24', 36720). Closing.\u001b[0m\n",
      "\u001b[34mtask NULL connected to the tracker\u001b[0m\n",
      "\u001b[34mINFO:RabitTracker:No data received from connection ('10.0.220.159', 34150). Closing.\u001b[0m\n",
      "\u001b[35mINFO:RabitContextManager:Connected to RabitTracker.\u001b[0m\n",
      "\u001b[35mtask NULL connected to the tracker\u001b[0m\n",
      "\u001b[35mtask NULL got new rank 0\u001b[0m\n",
      "\u001b[35mINFO:RabitContextManager:Failed to connect to RabitTracker on attempt 0\u001b[0m\n",
      "\u001b[35mINFO:RabitContextManager:Sleeping for 3 sec before retrying\u001b[0m\n",
      "\u001b[34mINFO:RabitTracker:Recieve start signal from 10.0.220.159; assign rank 0\u001b[0m\n",
      "\u001b[34mtask NULL got new rank 1\u001b[0m\n",
      "\u001b[34mINFO:RabitTracker:Recieve start signal from 10.0.226.24; assign rank 1\u001b[0m\n",
      "\u001b[34mINFO:RabitTracker:@tracker All of 2 nodes getting started\u001b[0m\n",
      "\u001b[34mINFO:RabitTracker:@tracker All nodes finishes job\u001b[0m\n",
      "\u001b[34mINFO:RabitTracker:@tracker 0.17312145233154297 secs between node start and job finish\u001b[0m\n",
      "\u001b[34mINFO:RabitTracker:start listen on algo-1:9100\u001b[0m\n",
      "\u001b[34mINFO:RabitContextManager:Rabit slave environment: {'DMLC_TRACKER_URI': 'algo-1', 'DMLC_TRACKER_PORT': 9100}\u001b[0m\n",
      "\u001b[34mINFO:RabitContextManager:Connected to RabitTracker.\u001b[0m\n",
      "\u001b[34mINFO:RabitTracker:No data received from connection ('10.0.226.24', 48506). Closing.\u001b[0m\n",
      "\u001b[34mtask NULL connected to the tracker\u001b[0m\n",
      "\u001b[34mINFO:RabitTracker:No data received from connection ('10.0.220.159', 33408). Closing.\u001b[0m\n",
      "\u001b[34mINFO:RabitTracker:Recieve start signal from 10.0.220.159; assign rank 0\u001b[0m\n",
      "\u001b[34mtask NULL got new rank 1\u001b[0m\n",
      "\u001b[34mINFO:RabitTracker:Recieve start signal from 10.0.226.24; assign rank 1\u001b[0m\n",
      "\u001b[34mINFO:RabitTracker:@tracker All of 2 nodes getting started\u001b[0m\n",
      "\u001b[34mINFO:root:Train matrix has 44 rows\u001b[0m\n",
      "\u001b[34mINFO:root:Validation matrix has 15 rows\u001b[0m\n",
      "\u001b[34m[19:37:52] WARNING: /workspace/src/learner.cc:328: \u001b[0m\n",
      "\u001b[34mParameters: { num_round } might not be used.\n",
      "\n",
      "  This may not be accurate due to some parameters are only used in language bindings but\n",
      "  passed down to XGBoost core.  Or some parameters are not used but slip through this\n",
      "  verification. Please open an issue if you find above cases.\n",
      "\n",
      "\u001b[0m\n",
      "\u001b[34m[19:37:52] WARNING: /workspace/src/gbm/gbtree.cc:128: Tree method is automatically selected to be 'approx' for distributed training.\u001b[0m\n",
      "\n",
      "2020-10-21 19:37:44 Training - Training image download completed. Training in progress.\u001b[35mINFO:RabitContextManager:Connected to RabitTracker.\u001b[0m\n",
      "\u001b[35mtask NULL connected to the tracker\u001b[0m\n",
      "\u001b[35mtask NULL got new rank 0\u001b[0m\n",
      "\u001b[35mINFO:root:Train matrix has 44 rows\u001b[0m\n",
      "\u001b[35mINFO:root:Validation matrix has 15 rows\u001b[0m\n",
      "\u001b[35m[19:37:52] WARNING: /workspace/src/learner.cc:328: \u001b[0m\n",
      "\u001b[35mParameters: { num_round } might not be used.\n",
      "\n",
      "  This may not be accurate due to some parameters are only used in language bindings but\n",
      "  passed down to XGBoost core.  Or some parameters are not used but slip through this\n",
      "  verification. Please open an issue if you find above cases.\n",
      "\n",
      "\u001b[0m\n",
      "\u001b[35m[19:37:52] WARNING: /workspace/src/gbm/gbtree.cc:128: Tree method is automatically selected to be 'approx' for distributed training.\u001b[0m\n",
      "\u001b[34mINFO:RabitTracker:[0]#011train-merror:0.00000#011validation-merror:0.20000\u001b[0m\n",
      "\u001b[34mINFO:RabitTracker:[1]#011train-merror:0.00000#011validation-merror:0.13333\u001b[0m\n",
      "\u001b[34mINFO:RabitTracker:[2]#011train-merror:0.00000#011validation-merror:0.20000\u001b[0m\n",
      "\u001b[34mINFO:RabitTracker:[3]#011train-merror:0.00000#011validation-merror:0.20000\u001b[0m\n",
      "\u001b[34mINFO:RabitTracker:[4]#011train-merror:0.00000#011validation-merror:0.20000\u001b[0m\n",
      "\u001b[34mINFO:RabitTracker:[5]#011train-merror:0.00000#011validation-merror:0.20000\u001b[0m\n",
      "\u001b[34mINFO:RabitTracker:[6]#011train-merror:0.00000#011validation-merror:0.20000\u001b[0m\n",
      "\u001b[34mINFO:RabitTracker:[7]#011train-merror:0.00000#011validation-merror:0.20000\u001b[0m\n",
      "\u001b[34mINFO:RabitTracker:[8]#011train-merror:0.00000#011validation-merror:0.20000\u001b[0m\n",
      "\u001b[34mINFO:RabitTracker:[9]#011train-merror:0.00000#011validation-merror:0.20000\u001b[0m\n",
      "\u001b[34mINFO:RabitTracker:[10]#011train-merror:0.00000#011validation-merror:0.20000\u001b[0m\n",
      "\u001b[34mINFO:RabitTracker:[11]#011train-merror:0.00000#011validation-merror:0.20000\u001b[0m\n",
      "\u001b[34mINFO:RabitTracker:[12]#011train-merror:0.00000#011validation-merror:0.20000\u001b[0m\n",
      "\u001b[34mINFO:RabitTracker:[13]#011train-merror:0.00000#011validation-merror:0.20000\u001b[0m\n",
      "\u001b[34mINFO:RabitTracker:[14]#011train-merror:0.00000#011validation-merror:0.20000\u001b[0m\n",
      "\u001b[34mINFO:RabitTracker:[15]#011train-merror:0.00000#011validation-merror:0.20000\u001b[0m\n",
      "\u001b[34mINFO:RabitTracker:[16]#011train-merror:0.00000#011validation-merror:0.20000\u001b[0m\n",
      "\u001b[34mINFO:RabitTracker:[17]#011train-merror:0.00000#011validation-merror:0.20000\u001b[0m\n",
      "\u001b[34mINFO:RabitTracker:[18]#011train-merror:0.00000#011validation-merror:0.20000\u001b[0m\n",
      "\u001b[34mINFO:RabitTracker:[19]#011train-merror:0.00000#011validation-merror:0.20000\u001b[0m\n",
      "\u001b[34mINFO:RabitTracker:[20]#011train-merror:0.00000#011validation-merror:0.20000\u001b[0m\n",
      "\u001b[34mINFO:RabitTracker:[21]#011train-merror:0.00000#011validation-merror:0.20000\u001b[0m\n",
      "\u001b[34mINFO:RabitTracker:[22]#011train-merror:0.00000#011validation-merror:0.20000\u001b[0m\n",
      "\u001b[34mINFO:RabitTracker:[23]#011train-merror:0.00000#011validation-merror:0.20000\u001b[0m\n",
      "\u001b[34mINFO:RabitTracker:[24]#011train-merror:0.00000#011validation-merror:0.13333\u001b[0m\n",
      "\u001b[34mINFO:RabitTracker:[25]#011train-merror:0.00000#011validation-merror:0.13333\u001b[0m\n",
      "\u001b[34mINFO:RabitTracker:[26]#011train-merror:0.00000#011validation-merror:0.13333\u001b[0m\n",
      "\u001b[34mINFO:RabitTracker:[27]#011train-merror:0.00000#011validation-merror:0.13333\u001b[0m\n",
      "\u001b[34mINFO:RabitTracker:[28]#011train-merror:0.00000#011validation-merror:0.13333\u001b[0m\n",
      "\u001b[34mINFO:RabitTracker:[29]#011train-merror:0.00000#011validation-merror:0.13333\u001b[0m\n",
      "\u001b[34mINFO:RabitTracker:[30]#011train-merror:0.00000#011validation-merror:0.13333\u001b[0m\n",
      "\u001b[34mINFO:RabitTracker:[31]#011train-merror:0.00000#011validation-merror:0.13333\u001b[0m\n",
      "\u001b[34mINFO:RabitTracker:[32]#011train-merror:0.00000#011validation-merror:0.13333\u001b[0m\n",
      "\u001b[34mINFO:RabitTracker:[33]#011train-merror:0.00000#011validation-merror:0.13333\u001b[0m\n",
      "\u001b[34mINFO:RabitTracker:[34]#011train-merror:0.00000#011validation-merror:0.13333\u001b[0m\n",
      "\u001b[34mINFO:RabitTracker:[35]#011train-merror:0.00000#011validation-merror:0.13333\u001b[0m\n",
      "\u001b[34mINFO:RabitTracker:[36]#011train-merror:0.00000#011validation-merror:0.13333\u001b[0m\n",
      "\u001b[34mINFO:RabitTracker:[37]#011train-merror:0.00000#011validation-merror:0.13333\u001b[0m\n",
      "\u001b[34mINFO:RabitTracker:[38]#011train-merror:0.00000#011validation-merror:0.13333\u001b[0m\n",
      "\u001b[34mINFO:RabitTracker:[39]#011train-merror:0.00000#011validation-merror:0.13333\u001b[0m\n",
      "\u001b[34mINFO:RabitTracker:[40]#011train-merror:0.00000#011validation-merror:0.13333\u001b[0m\n",
      "\u001b[34mINFO:RabitTracker:[41]#011train-merror:0.00000#011validation-merror:0.13333\u001b[0m\n"
     ]
    },
    {
     "name": "stdout",
     "output_type": "stream",
     "text": [
      "\u001b[34mINFO:RabitTracker:[42]#011train-merror:0.00000#011validation-merror:0.13333\u001b[0m\n",
      "\u001b[34mINFO:RabitTracker:[43]#011train-merror:0.00000#011validation-merror:0.13333\u001b[0m\n",
      "\u001b[34mINFO:RabitTracker:[44]#011train-merror:0.00000#011validation-merror:0.13333\u001b[0m\n",
      "\u001b[34mINFO:RabitTracker:[45]#011train-merror:0.00000#011validation-merror:0.13333\u001b[0m\n",
      "\u001b[34mINFO:RabitTracker:[46]#011train-merror:0.00000#011validation-merror:0.13333\u001b[0m\n",
      "\u001b[34mINFO:RabitTracker:[47]#011train-merror:0.00000#011validation-merror:0.13333\u001b[0m\n",
      "\u001b[34mINFO:RabitTracker:[48]#011train-merror:0.00000#011validation-merror:0.13333\u001b[0m\n",
      "\u001b[34mINFO:RabitTracker:[49]#011train-merror:0.00000#011validation-merror:0.13333\u001b[0m\n",
      "\u001b[34mINFO:RabitTracker:[50]#011train-merror:0.00000#011validation-merror:0.13333\u001b[0m\n",
      "\u001b[34mINFO:RabitTracker:[51]#011train-merror:0.00000#011validation-merror:0.13333\u001b[0m\n",
      "\u001b[34mINFO:RabitTracker:[52]#011train-merror:0.00000#011validation-merror:0.13333\u001b[0m\n",
      "\u001b[34mINFO:RabitTracker:[53]#011train-merror:0.00000#011validation-merror:0.13333\u001b[0m\n",
      "\u001b[34mINFO:RabitTracker:[54]#011train-merror:0.00000#011validation-merror:0.13333\u001b[0m\n",
      "\u001b[34mINFO:RabitTracker:[55]#011train-merror:0.00000#011validation-merror:0.13333\u001b[0m\n",
      "\u001b[34mINFO:RabitTracker:[56]#011train-merror:0.00000#011validation-merror:0.13333\u001b[0m\n",
      "\u001b[34mINFO:RabitTracker:[57]#011train-merror:0.00000#011validation-merror:0.13333\u001b[0m\n",
      "\u001b[34mINFO:RabitTracker:[58]#011train-merror:0.00000#011validation-merror:0.13333\u001b[0m\n",
      "\u001b[34mINFO:RabitTracker:[59]#011train-merror:0.00000#011validation-merror:0.13333\u001b[0m\n",
      "\u001b[34mINFO:RabitTracker:[60]#011train-merror:0.00000#011validation-merror:0.13333\u001b[0m\n",
      "\u001b[34mINFO:RabitTracker:[61]#011train-merror:0.00000#011validation-merror:0.13333\u001b[0m\n",
      "\u001b[34mINFO:RabitTracker:[62]#011train-merror:0.00000#011validation-merror:0.13333\u001b[0m\n",
      "\u001b[34mINFO:RabitTracker:[63]#011train-merror:0.00000#011validation-merror:0.13333\u001b[0m\n",
      "\u001b[34mINFO:RabitTracker:[64]#011train-merror:0.00000#011validation-merror:0.13333\u001b[0m\n",
      "\u001b[34mINFO:RabitTracker:[65]#011train-merror:0.00000#011validation-merror:0.13333\u001b[0m\n",
      "\u001b[34mINFO:RabitTracker:[66]#011train-merror:0.00000#011validation-merror:0.13333\u001b[0m\n",
      "\u001b[34mINFO:RabitTracker:[67]#011train-merror:0.00000#011validation-merror:0.13333\u001b[0m\n",
      "\u001b[34mINFO:RabitTracker:[68]#011train-merror:0.00000#011validation-merror:0.13333\u001b[0m\n",
      "\u001b[34mINFO:RabitTracker:[69]#011train-merror:0.00000#011validation-merror:0.13333\u001b[0m\n",
      "\u001b[34mINFO:RabitTracker:[70]#011train-merror:0.00000#011validation-merror:0.13333\u001b[0m\n",
      "\u001b[34mINFO:RabitTracker:[71]#011train-merror:0.00000#011validation-merror:0.13333\u001b[0m\n",
      "\u001b[34mINFO:RabitTracker:[72]#011train-merror:0.00000#011validation-merror:0.13333\u001b[0m\n",
      "\u001b[34mINFO:RabitTracker:[73]#011train-merror:0.00000#011validation-merror:0.13333\u001b[0m\n",
      "\u001b[34mINFO:RabitTracker:[74]#011train-merror:0.00000#011validation-merror:0.13333\u001b[0m\n",
      "\u001b[34mINFO:RabitTracker:[75]#011train-merror:0.00000#011validation-merror:0.13333\u001b[0m\n",
      "\u001b[34mINFO:RabitTracker:[76]#011train-merror:0.00000#011validation-merror:0.13333\u001b[0m\n",
      "\u001b[34mINFO:RabitTracker:[77]#011train-merror:0.00000#011validation-merror:0.13333\u001b[0m\n",
      "\u001b[34mINFO:RabitTracker:[78]#011train-merror:0.00000#011validation-merror:0.13333\u001b[0m\n",
      "\u001b[34mINFO:RabitTracker:[79]#011train-merror:0.00000#011validation-merror:0.13333\u001b[0m\n",
      "\u001b[34mINFO:RabitTracker:[80]#011train-merror:0.00000#011validation-merror:0.13333\u001b[0m\n",
      "\u001b[34mINFO:RabitTracker:[81]#011train-merror:0.00000#011validation-merror:0.13333\u001b[0m\n",
      "\u001b[34mINFO:RabitTracker:[82]#011train-merror:0.00000#011validation-merror:0.13333\u001b[0m\n",
      "\u001b[34mINFO:RabitTracker:[83]#011train-merror:0.00000#011validation-merror:0.13333\u001b[0m\n",
      "\n",
      "2020-10-21 19:39:07 Uploading - Uploading generated training model\u001b[34mINFO:RabitTracker:[84]#011train-merror:0.00000#011validation-merror:0.13333\u001b[0m\n",
      "\u001b[34mINFO:RabitTracker:[85]#011train-merror:0.00000#011validation-merror:0.13333\u001b[0m\n",
      "\u001b[34mINFO:RabitTracker:[86]#011train-merror:0.00000#011validation-merror:0.13333\u001b[0m\n",
      "\u001b[34mINFO:RabitTracker:[87]#011train-merror:0.00000#011validation-merror:0.13333\u001b[0m\n",
      "\u001b[34mINFO:RabitTracker:[88]#011train-merror:0.00000#011validation-merror:0.13333\u001b[0m\n",
      "\u001b[34mINFO:RabitTracker:[89]#011train-merror:0.00000#011validation-merror:0.13333\u001b[0m\n",
      "\u001b[34mINFO:RabitTracker:[90]#011train-merror:0.00000#011validation-merror:0.13333\u001b[0m\n",
      "\u001b[34mINFO:RabitTracker:[91]#011train-merror:0.00000#011validation-merror:0.13333\u001b[0m\n",
      "\u001b[34mINFO:RabitTracker:[92]#011train-merror:0.00000#011validation-merror:0.13333\u001b[0m\n",
      "\u001b[34mINFO:RabitTracker:[93]#011train-merror:0.00000#011validation-merror:0.13333\u001b[0m\n",
      "\u001b[34mINFO:RabitTracker:[94]#011train-merror:0.00000#011validation-merror:0.13333\u001b[0m\n",
      "\u001b[34mINFO:RabitTracker:[95]#011train-merror:0.00000#011validation-merror:0.13333\u001b[0m\n",
      "\u001b[34mINFO:RabitTracker:[96]#011train-merror:0.00000#011validation-merror:0.13333\u001b[0m\n",
      "\u001b[34mINFO:RabitTracker:[97]#011train-merror:0.00000#011validation-merror:0.13333\u001b[0m\n",
      "\u001b[34mINFO:RabitTracker:[98]#011train-merror:0.00000#011validation-merror:0.13333\u001b[0m\n",
      "\u001b[34mINFO:RabitTracker:[99]#011train-merror:0.00000#011validation-merror:0.13333\u001b[0m\n",
      "\u001b[34mINFO:RabitTracker:@tracker All nodes finishes job\u001b[0m\n",
      "\u001b[34mINFO:RabitTracker:@tracker 71.65276503562927 secs between node start and job finish\u001b[0m\n",
      "\n",
      "2020-10-21 19:39:14 Completed - Training job completed\n",
      "Training seconds: 294\n",
      "Billable seconds: 294\n"
     ]
    }
   ],
   "source": [
    "xgb.fit({'train': train_set_pointer, 'validation': test_set_pointer})"
   ]
  },
  {
   "cell_type": "markdown",
   "metadata": {},
   "source": [
    "### 4. Host the Trained Model as a SageMaker Endpoint (using Estimator object)"
   ]
  },
  {
   "cell_type": "code",
   "execution_count": 30,
   "metadata": {},
   "outputs": [
    {
     "name": "stderr",
     "output_type": "stream",
     "text": [
      "Parameter image will be renamed to image_uri in SageMaker Python SDK v2.\n",
      "Using already existing model: fruits-clf-xgboost-2020-10-21-19-34-32-454\n"
     ]
    },
    {
     "name": "stdout",
     "output_type": "stream",
     "text": [
      "---------------!"
     ]
    }
   ],
   "source": [
    "xgb_predictor = xgb.deploy(initial_instance_count=2,\n",
    "                           instance_type='ml.m5.large')"
   ]
  },
  {
   "cell_type": "markdown",
   "metadata": {},
   "source": [
    "### 5. Real Time Inference from the Endpoint"
   ]
  },
  {
   "cell_type": "code",
   "execution_count": 31,
   "metadata": {},
   "outputs": [],
   "source": [
    "xgb_predictor.content_type = 'text/csv'\n",
    "xgb_predictor.serializer = csv_serializer"
   ]
  },
  {
   "cell_type": "code",
   "execution_count": 32,
   "metadata": {},
   "outputs": [],
   "source": [
    "test_df = pd.read_csv('./DATA/test.csv', names=['class', 'mass', 'width', 'height', 'color_score'])"
   ]
  },
  {
   "cell_type": "code",
   "execution_count": 33,
   "metadata": {},
   "outputs": [
    {
     "data": {
      "text/html": [
       "<div>\n",
       "<style scoped>\n",
       "    .dataframe tbody tr th:only-of-type {\n",
       "        vertical-align: middle;\n",
       "    }\n",
       "\n",
       "    .dataframe tbody tr th {\n",
       "        vertical-align: top;\n",
       "    }\n",
       "\n",
       "    .dataframe thead th {\n",
       "        text-align: right;\n",
       "    }\n",
       "</style>\n",
       "<table border=\"1\" class=\"dataframe\">\n",
       "  <thead>\n",
       "    <tr style=\"text-align: right;\">\n",
       "      <th></th>\n",
       "      <th>class</th>\n",
       "      <th>mass</th>\n",
       "      <th>width</th>\n",
       "      <th>height</th>\n",
       "      <th>color_score</th>\n",
       "    </tr>\n",
       "  </thead>\n",
       "  <tbody>\n",
       "    <tr>\n",
       "      <th>0</th>\n",
       "      <td>1</td>\n",
       "      <td>0.142857</td>\n",
       "      <td>0.058824</td>\n",
       "      <td>0.538462</td>\n",
       "      <td>0.382353</td>\n",
       "    </tr>\n",
       "    <tr>\n",
       "      <th>1</th>\n",
       "      <td>3</td>\n",
       "      <td>0.371429</td>\n",
       "      <td>0.529412</td>\n",
       "      <td>0.646154</td>\n",
       "      <td>0.588235</td>\n",
       "    </tr>\n",
       "    <tr>\n",
       "      <th>2</th>\n",
       "      <td>0</td>\n",
       "      <td>0.314286</td>\n",
       "      <td>0.441176</td>\n",
       "      <td>0.569231</td>\n",
       "      <td>0.323529</td>\n",
       "    </tr>\n",
       "    <tr>\n",
       "      <th>3</th>\n",
       "      <td>1</td>\n",
       "      <td>0.157143</td>\n",
       "      <td>0.058824</td>\n",
       "      <td>0.676923</td>\n",
       "      <td>0.441176</td>\n",
       "    </tr>\n",
       "    <tr>\n",
       "      <th>4</th>\n",
       "      <td>3</td>\n",
       "      <td>0.457143</td>\n",
       "      <td>0.500000</td>\n",
       "      <td>0.800000</td>\n",
       "      <td>0.529412</td>\n",
       "    </tr>\n",
       "  </tbody>\n",
       "</table>\n",
       "</div>"
      ],
      "text/plain": [
       "   class      mass     width    height  color_score\n",
       "0      1  0.142857  0.058824  0.538462     0.382353\n",
       "1      3  0.371429  0.529412  0.646154     0.588235\n",
       "2      0  0.314286  0.441176  0.569231     0.323529\n",
       "3      1  0.157143  0.058824  0.676923     0.441176\n",
       "4      3  0.457143  0.500000  0.800000     0.529412"
      ]
     },
     "execution_count": 33,
     "metadata": {},
     "output_type": "execute_result"
    }
   ],
   "source": [
    "test_df.head()"
   ]
  },
  {
   "cell_type": "code",
   "execution_count": 34,
   "metadata": {},
   "outputs": [
    {
     "data": {
      "text/html": [
       "<div>\n",
       "<style scoped>\n",
       "    .dataframe tbody tr th:only-of-type {\n",
       "        vertical-align: middle;\n",
       "    }\n",
       "\n",
       "    .dataframe tbody tr th {\n",
       "        vertical-align: top;\n",
       "    }\n",
       "\n",
       "    .dataframe thead th {\n",
       "        text-align: right;\n",
       "    }\n",
       "</style>\n",
       "<table border=\"1\" class=\"dataframe\">\n",
       "  <thead>\n",
       "    <tr style=\"text-align: right;\">\n",
       "      <th></th>\n",
       "      <th>class</th>\n",
       "      <th>mass</th>\n",
       "      <th>width</th>\n",
       "      <th>height</th>\n",
       "      <th>color_score</th>\n",
       "    </tr>\n",
       "  </thead>\n",
       "  <tbody>\n",
       "    <tr>\n",
       "      <th>12</th>\n",
       "      <td>0</td>\n",
       "      <td>0.342857</td>\n",
       "      <td>0.382353</td>\n",
       "      <td>0.553846</td>\n",
       "      <td>0.970588</td>\n",
       "    </tr>\n",
       "  </tbody>\n",
       "</table>\n",
       "</div>"
      ],
      "text/plain": [
       "    class      mass     width    height  color_score\n",
       "12      0  0.342857  0.382353  0.553846     0.970588"
      ]
     },
     "execution_count": 34,
     "metadata": {},
     "output_type": "execute_result"
    }
   ],
   "source": [
    "X = test_df.sample(1)\n",
    "X"
   ]
  },
  {
   "cell_type": "code",
   "execution_count": 35,
   "metadata": {},
   "outputs": [
    {
     "data": {
      "text/plain": [
       "array([0.34285714, 0.38235294, 0.55384615, 0.97058824])"
      ]
     },
     "execution_count": 35,
     "metadata": {},
     "output_type": "execute_result"
    }
   ],
   "source": [
    "X = X.values[0]\n",
    "X[1:]"
   ]
  },
  {
   "cell_type": "code",
   "execution_count": 36,
   "metadata": {},
   "outputs": [],
   "source": [
    "payload = X[1:]"
   ]
  },
  {
   "cell_type": "code",
   "execution_count": 37,
   "metadata": {},
   "outputs": [
    {
     "name": "stdout",
     "output_type": "stream",
     "text": [
      "CPU times: user 18.9 ms, sys: 604 µs, total: 19.5 ms\n",
      "Wall time: 1.16 s\n"
     ]
    }
   ],
   "source": [
    "%%time\n",
    "\n",
    "predicted_class = xgb_predictor.predict(payload).decode('utf-8')"
   ]
  },
  {
   "cell_type": "code",
   "execution_count": 38,
   "metadata": {},
   "outputs": [
    {
     "name": "stdout",
     "output_type": "stream",
     "text": [
      "Predicted Class = 0.0 ==> apple\n"
     ]
    }
   ],
   "source": [
    "predicted_class_label = label_encoder.inverse_transform([int(float(predicted_class))])\n",
    "print('Predicted Class = {} ==> {}'.format(predicted_class, predicted_class_label[0]))"
   ]
  },
  {
   "cell_type": "markdown",
   "metadata": {},
   "source": [
    "### 5. Evaluate (Batch Inference using Endpoint) "
   ]
  },
  {
   "cell_type": "code",
   "execution_count": 39,
   "metadata": {},
   "outputs": [],
   "source": [
    "predictions = []\n",
    "expected = []\n",
    "correct = 0\n",
    "for row in test_df.values:\n",
    "    expected_class = row[0]\n",
    "    payload = row[1:]\n",
    "    predicted_class = xgb_predictor.predict(payload).decode('utf-8')\n",
    "    if predicted_class == str(expected_class):\n",
    "        correct += 1\n",
    "    predictions.append(predicted_class)\n",
    "    expected.append(expected_class)"
   ]
  },
  {
   "cell_type": "code",
   "execution_count": 40,
   "metadata": {},
   "outputs": [
    {
     "name": "stdout",
     "output_type": "stream",
     "text": [
      "Accuracy = 86.67%\n"
     ]
    }
   ],
   "source": [
    "print('Accuracy = {:.2f}%'.format(correct/len(predictions) * 100))"
   ]
  },
  {
   "cell_type": "markdown",
   "metadata": {},
   "source": [
    "##### Confusion Matrix"
   ]
  },
  {
   "cell_type": "code",
   "execution_count": 41,
   "metadata": {},
   "outputs": [
    {
     "data": {
      "text/html": [
       "<div>\n",
       "<style scoped>\n",
       "    .dataframe tbody tr th:only-of-type {\n",
       "        vertical-align: middle;\n",
       "    }\n",
       "\n",
       "    .dataframe tbody tr th {\n",
       "        vertical-align: top;\n",
       "    }\n",
       "\n",
       "    .dataframe thead th {\n",
       "        text-align: right;\n",
       "    }\n",
       "</style>\n",
       "<table border=\"1\" class=\"dataframe\">\n",
       "  <thead>\n",
       "    <tr style=\"text-align: right;\">\n",
       "      <th>Predicted</th>\n",
       "      <th>0.0</th>\n",
       "      <th>1.0</th>\n",
       "      <th>2.0</th>\n",
       "      <th>3.0</th>\n",
       "      <th>All</th>\n",
       "    </tr>\n",
       "    <tr>\n",
       "      <th>Actual</th>\n",
       "      <th></th>\n",
       "      <th></th>\n",
       "      <th></th>\n",
       "      <th></th>\n",
       "      <th></th>\n",
       "    </tr>\n",
       "  </thead>\n",
       "  <tbody>\n",
       "    <tr>\n",
       "      <th>0.0</th>\n",
       "      <td>4</td>\n",
       "      <td>1</td>\n",
       "      <td>0</td>\n",
       "      <td>0</td>\n",
       "      <td>5</td>\n",
       "    </tr>\n",
       "    <tr>\n",
       "      <th>1.0</th>\n",
       "      <td>0</td>\n",
       "      <td>2</td>\n",
       "      <td>0</td>\n",
       "      <td>1</td>\n",
       "      <td>3</td>\n",
       "    </tr>\n",
       "    <tr>\n",
       "      <th>2.0</th>\n",
       "      <td>0</td>\n",
       "      <td>0</td>\n",
       "      <td>1</td>\n",
       "      <td>0</td>\n",
       "      <td>1</td>\n",
       "    </tr>\n",
       "    <tr>\n",
       "      <th>3.0</th>\n",
       "      <td>0</td>\n",
       "      <td>0</td>\n",
       "      <td>0</td>\n",
       "      <td>6</td>\n",
       "      <td>6</td>\n",
       "    </tr>\n",
       "    <tr>\n",
       "      <th>All</th>\n",
       "      <td>4</td>\n",
       "      <td>3</td>\n",
       "      <td>1</td>\n",
       "      <td>7</td>\n",
       "      <td>15</td>\n",
       "    </tr>\n",
       "  </tbody>\n",
       "</table>\n",
       "</div>"
      ],
      "text/plain": [
       "Predicted  0.0  1.0  2.0  3.0  All\n",
       "Actual                            \n",
       "0.0          4    1    0    0    5\n",
       "1.0          0    2    0    1    3\n",
       "2.0          0    0    1    0    1\n",
       "3.0          0    0    0    6    6\n",
       "All          4    3    1    7   15"
      ]
     },
     "execution_count": 41,
     "metadata": {},
     "output_type": "execute_result"
    }
   ],
   "source": [
    "expected = pd.Series(np.array(expected))\n",
    "predictions = pd.Series(np.array(predictions))\n",
    "pd.crosstab(expected, predictions, rownames=['Actual'], colnames=['Predicted'], margins=True)"
   ]
  },
  {
   "cell_type": "code",
   "execution_count": null,
   "metadata": {},
   "outputs": [],
   "source": []
  },
  {
   "cell_type": "code",
   "execution_count": null,
   "metadata": {},
   "outputs": [],
   "source": []
  }
 ],
 "metadata": {
  "kernelspec": {
   "display_name": "conda_python3",
   "language": "python",
   "name": "conda_python3"
  },
  "language_info": {
   "codemirror_mode": {
    "name": "ipython",
    "version": 3
   },
   "file_extension": ".py",
   "mimetype": "text/x-python",
   "name": "python",
   "nbconvert_exporter": "python",
   "pygments_lexer": "ipython3",
   "version": "3.6.10"
  }
 },
 "nbformat": 4,
 "nbformat_minor": 4
}
