{
 "cells": [
  {
   "cell_type": "markdown",
   "metadata": {},
   "source": [
    "### Create Train Script "
   ]
  },
  {
   "cell_type": "code",
   "execution_count": 1,
   "metadata": {},
   "outputs": [
    {
     "name": "stdout",
     "output_type": "stream",
     "text": [
      "Overwriting train.py\n"
     ]
    }
   ],
   "source": [
    "%%file train.py\n",
    "\n",
    "from sklearn.neighbors import KNeighborsClassifier\n",
    "from io import BytesIO\n",
    "import pandas as pd\n",
    "import numpy as np\n",
    "import argparse\n",
    "import pickle\n",
    "import json\n",
    "import os\n",
    "\n",
    "\n",
    "def model_fn(model_dir):\n",
    "    print('[-------------- INSIDE MODEL FN --------------]')\n",
    "    print(f'MODEL DIR: {model_dir}')\n",
    "    model = pickle.load(open(os.path.join(model_dir, 'model'), 'rb'))\n",
    "    return model\n",
    "\n",
    "\n",
    "def input_fn(request_body, request_content_type):\n",
    "    print('[-------------- INSIDE INPUT FN --------------]')\n",
    "    print(f'REQUEST BODY: {request_body}')\n",
    "    print(f'REQUEST CONTENT TYPE: {request_content_type}')\n",
    "    if request_content_type == 'application/x-npy':\n",
    "        stream = BytesIO(request_body)\n",
    "        return np.load(stream)\n",
    "    else:\n",
    "        raise ValueError('Content type must be application/x-npy')\n",
    "\n",
    "\n",
    "def predict_fn(input_data, model):\n",
    "    print('[-------------- INSIDE PREDICT FN --------------]')\n",
    "    print(f'INPUT DATA: {input_data}')\n",
    "    print(f'MODEL: {model}')\n",
    "    X = input_data.reshape(1, -1)\n",
    "    prediction = model.predict(X)\n",
    "    return prediction\n",
    "\n",
    "\n",
    "def output_fn(prediction, content_type):\n",
    "    print('[-------------- INSIDE OUTPUT FN --------------]')\n",
    "    print(f'PREDICTION: {prediction}')\n",
    "    print(f'CONTENT TYPE: {content_type}')\n",
    "    if content_type == 'application/x-npy':\n",
    "        buffer = BytesIO()\n",
    "        np.save(buffer, prediction)\n",
    "        return buffer.getvalue()\n",
    "    else:\n",
    "        raise ValueError('Accept header must be application/x-npy')\n",
    "\n",
    "\n",
    "def train():\n",
    "    parser = argparse.ArgumentParser()\n",
    "    parser.add_argument('--output-data-dir', type=str, default=os.environ.get('SM_OUTPUT_DATA_DIR'))\n",
    "    parser.add_argument('--model-dir', type=str, default=os.environ.get('SM_MODEL_DIR'))\n",
    "    parser.add_argument('--train', type=str, default=os.environ.get('SM_CHANNEL_TRAIN'))\n",
    "    parser.add_argument('--test', type=str, default=os.environ.get('SM_CHANNEL_TEST'))\n",
    "    args = parser.parse_args()\n",
    "    \n",
    "    # ------------------------- YOUR MODEL TRAINING LOGIC STARTS HERE -------------------------\n",
    "    # Load data from the location specified by args.train (In this case, an S3 bucket)\n",
    "    print(\"------- [STARTING TRAINING] -------\")\n",
    "    train_df = pd.read_csv(os.path.join(args.train, 'train.csv'), names=['class', 'mass', 'width', 'height', 'color_score'])\n",
    "    train_df.head()\n",
    "    X_train = train_df[['mass', 'width', 'height', 'color_score']]\n",
    "    y_train = train_df['class']\n",
    "    knn = KNeighborsClassifier()\n",
    "    knn.fit(X_train, y_train)\n",
    "    # Save the trained Model inside the Container\n",
    "    pickle.dump(knn, open(os.path.join(args.model_dir, 'model'), 'wb'))\n",
    "    print(\"------- [TRAINING COMPLETE!] -------\")\n",
    "    \n",
    "    print(\"------- [STARTING EVALUATION] -------\")\n",
    "    test_df = pd.read_csv(os.path.join(args.test, 'test.csv'), names=['class', 'mass', 'width', 'height', 'color_score'])\n",
    "    X_test = train_df[['mass', 'width', 'height', 'color_score']]\n",
    "    y_test = train_df['class']\n",
    "    acc = knn.score(X_test, y_test)\n",
    "    print('Accuracy = {:.2f}%'.format(acc * 100))\n",
    "    print(\"------- [EVALUATION DONE!] -------\")\n",
    "\n",
    "if __name__ == '__main__':\n",
    "    train()"
   ]
  },
  {
   "cell_type": "markdown",
   "metadata": {},
   "source": [
    "### Imports "
   ]
  },
  {
   "cell_type": "code",
   "execution_count": 2,
   "metadata": {},
   "outputs": [],
   "source": [
    "from sagemaker.sklearn.estimator import SKLearn\n",
    "from sagemaker import get_execution_role\n",
    "import pandas as pd"
   ]
  },
  {
   "cell_type": "markdown",
   "metadata": {},
   "source": [
    "### Essentials "
   ]
  },
  {
   "cell_type": "code",
   "execution_count": 3,
   "metadata": {},
   "outputs": [],
   "source": [
    "role = get_execution_role()"
   ]
  },
  {
   "cell_type": "markdown",
   "metadata": {},
   "source": [
    "### Train Model (Local Mode)"
   ]
  },
  {
   "cell_type": "code",
   "execution_count": 4,
   "metadata": {},
   "outputs": [],
   "source": [
    "estimator = SKLearn(entry_point='train.py',\n",
    "                    train_instance_type='local',\n",
    "                    train_instance_count=1,\n",
    "                    framework_version='0.23-1',\n",
    "                    role=role)"
   ]
  },
  {
   "cell_type": "code",
   "execution_count": 5,
   "metadata": {},
   "outputs": [
    {
     "name": "stdout",
     "output_type": "stream",
     "text": [
      "Creating tmpxky4mx6n_algo-1-tch93_1 ... \n",
      "\u001b[1BAttaching to tmpxky4mx6n_algo-1-tch93_12mdone\u001b[0m\n",
      "\u001b[36malgo-1-tch93_1  |\u001b[0m 2020-11-05 04:41:46,587 sagemaker-training-toolkit INFO     Imported framework sagemaker_sklearn_container.training\n",
      "\u001b[36malgo-1-tch93_1  |\u001b[0m 2020-11-05 04:41:46,590 sagemaker-training-toolkit INFO     No GPUs detected (normal if no gpus installed)\n",
      "\u001b[36malgo-1-tch93_1  |\u001b[0m 2020-11-05 04:41:46,601 sagemaker_sklearn_container.training INFO     Invoking user training script.\n",
      "\u001b[36malgo-1-tch93_1  |\u001b[0m 2020-11-05 04:41:47,777 sagemaker-training-toolkit INFO     No GPUs detected (normal if no gpus installed)\n",
      "\u001b[36malgo-1-tch93_1  |\u001b[0m 2020-11-05 04:41:47,794 sagemaker-training-toolkit INFO     No GPUs detected (normal if no gpus installed)\n",
      "\u001b[36malgo-1-tch93_1  |\u001b[0m 2020-11-05 04:41:47,807 sagemaker-training-toolkit INFO     No GPUs detected (normal if no gpus installed)\n",
      "\u001b[36malgo-1-tch93_1  |\u001b[0m 2020-11-05 04:41:47,817 sagemaker-training-toolkit INFO     Invoking user script\n",
      "\u001b[36malgo-1-tch93_1  |\u001b[0m \n",
      "\u001b[36malgo-1-tch93_1  |\u001b[0m Training Env:\n",
      "\u001b[36malgo-1-tch93_1  |\u001b[0m \n",
      "\u001b[36malgo-1-tch93_1  |\u001b[0m {\n",
      "\u001b[36malgo-1-tch93_1  |\u001b[0m     \"additional_framework_parameters\": {},\n",
      "\u001b[36malgo-1-tch93_1  |\u001b[0m     \"channel_input_dirs\": {\n",
      "\u001b[36malgo-1-tch93_1  |\u001b[0m         \"train\": \"/opt/ml/input/data/train\",\n",
      "\u001b[36malgo-1-tch93_1  |\u001b[0m         \"test\": \"/opt/ml/input/data/test\"\n",
      "\u001b[36malgo-1-tch93_1  |\u001b[0m     },\n",
      "\u001b[36malgo-1-tch93_1  |\u001b[0m     \"current_host\": \"algo-1-tch93\",\n",
      "\u001b[36malgo-1-tch93_1  |\u001b[0m     \"framework_module\": \"sagemaker_sklearn_container.training:main\",\n",
      "\u001b[36malgo-1-tch93_1  |\u001b[0m     \"hosts\": [\n",
      "\u001b[36malgo-1-tch93_1  |\u001b[0m         \"algo-1-tch93\"\n",
      "\u001b[36malgo-1-tch93_1  |\u001b[0m     ],\n",
      "\u001b[36malgo-1-tch93_1  |\u001b[0m     \"hyperparameters\": {},\n",
      "\u001b[36malgo-1-tch93_1  |\u001b[0m     \"input_config_dir\": \"/opt/ml/input/config\",\n",
      "\u001b[36malgo-1-tch93_1  |\u001b[0m     \"input_data_config\": {\n",
      "\u001b[36malgo-1-tch93_1  |\u001b[0m         \"train\": {\n",
      "\u001b[36malgo-1-tch93_1  |\u001b[0m             \"TrainingInputMode\": \"File\"\n",
      "\u001b[36malgo-1-tch93_1  |\u001b[0m         },\n",
      "\u001b[36malgo-1-tch93_1  |\u001b[0m         \"test\": {\n",
      "\u001b[36malgo-1-tch93_1  |\u001b[0m             \"TrainingInputMode\": \"File\"\n",
      "\u001b[36malgo-1-tch93_1  |\u001b[0m         }\n",
      "\u001b[36malgo-1-tch93_1  |\u001b[0m     },\n",
      "\u001b[36malgo-1-tch93_1  |\u001b[0m     \"input_dir\": \"/opt/ml/input\",\n",
      "\u001b[36malgo-1-tch93_1  |\u001b[0m     \"is_master\": true,\n",
      "\u001b[36malgo-1-tch93_1  |\u001b[0m     \"job_name\": \"sagemaker-scikit-learn-2020-11-05-04-41-42-347\",\n",
      "\u001b[36malgo-1-tch93_1  |\u001b[0m     \"log_level\": 20,\n",
      "\u001b[36malgo-1-tch93_1  |\u001b[0m     \"master_hostname\": \"algo-1-tch93\",\n",
      "\u001b[36malgo-1-tch93_1  |\u001b[0m     \"model_dir\": \"/opt/ml/model\",\n",
      "\u001b[36malgo-1-tch93_1  |\u001b[0m     \"module_dir\": \"s3://sagemaker-us-east-1-892313895307/sagemaker-scikit-learn-2020-11-05-04-41-42-347/source/sourcedir.tar.gz\",\n",
      "\u001b[36malgo-1-tch93_1  |\u001b[0m     \"module_name\": \"train\",\n",
      "\u001b[36malgo-1-tch93_1  |\u001b[0m     \"network_interface_name\": \"eth0\",\n",
      "\u001b[36malgo-1-tch93_1  |\u001b[0m     \"num_cpus\": 4,\n",
      "\u001b[36malgo-1-tch93_1  |\u001b[0m     \"num_gpus\": 0,\n",
      "\u001b[36malgo-1-tch93_1  |\u001b[0m     \"output_data_dir\": \"/opt/ml/output/data\",\n",
      "\u001b[36malgo-1-tch93_1  |\u001b[0m     \"output_dir\": \"/opt/ml/output\",\n",
      "\u001b[36malgo-1-tch93_1  |\u001b[0m     \"output_intermediate_dir\": \"/opt/ml/output/intermediate\",\n",
      "\u001b[36malgo-1-tch93_1  |\u001b[0m     \"resource_config\": {\n",
      "\u001b[36malgo-1-tch93_1  |\u001b[0m         \"current_host\": \"algo-1-tch93\",\n",
      "\u001b[36malgo-1-tch93_1  |\u001b[0m         \"hosts\": [\n",
      "\u001b[36malgo-1-tch93_1  |\u001b[0m             \"algo-1-tch93\"\n",
      "\u001b[36malgo-1-tch93_1  |\u001b[0m         ]\n",
      "\u001b[36malgo-1-tch93_1  |\u001b[0m     },\n",
      "\u001b[36malgo-1-tch93_1  |\u001b[0m     \"user_entry_point\": \"train.py\"\n",
      "\u001b[36malgo-1-tch93_1  |\u001b[0m }\n",
      "\u001b[36malgo-1-tch93_1  |\u001b[0m \n",
      "\u001b[36malgo-1-tch93_1  |\u001b[0m Environment variables:\n",
      "\u001b[36malgo-1-tch93_1  |\u001b[0m \n",
      "\u001b[36malgo-1-tch93_1  |\u001b[0m SM_HOSTS=[\"algo-1-tch93\"]\n",
      "\u001b[36malgo-1-tch93_1  |\u001b[0m SM_NETWORK_INTERFACE_NAME=eth0\n",
      "\u001b[36malgo-1-tch93_1  |\u001b[0m SM_HPS={}\n",
      "\u001b[36malgo-1-tch93_1  |\u001b[0m SM_USER_ENTRY_POINT=train.py\n",
      "\u001b[36malgo-1-tch93_1  |\u001b[0m SM_FRAMEWORK_PARAMS={}\n",
      "\u001b[36malgo-1-tch93_1  |\u001b[0m SM_RESOURCE_CONFIG={\"current_host\":\"algo-1-tch93\",\"hosts\":[\"algo-1-tch93\"]}\n",
      "\u001b[36malgo-1-tch93_1  |\u001b[0m SM_INPUT_DATA_CONFIG={\"test\":{\"TrainingInputMode\":\"File\"},\"train\":{\"TrainingInputMode\":\"File\"}}\n",
      "\u001b[36malgo-1-tch93_1  |\u001b[0m SM_OUTPUT_DATA_DIR=/opt/ml/output/data\n",
      "\u001b[36malgo-1-tch93_1  |\u001b[0m SM_CHANNELS=[\"test\",\"train\"]\n",
      "\u001b[36malgo-1-tch93_1  |\u001b[0m SM_CURRENT_HOST=algo-1-tch93\n",
      "\u001b[36malgo-1-tch93_1  |\u001b[0m SM_MODULE_NAME=train\n",
      "\u001b[36malgo-1-tch93_1  |\u001b[0m SM_LOG_LEVEL=20\n",
      "\u001b[36malgo-1-tch93_1  |\u001b[0m SM_FRAMEWORK_MODULE=sagemaker_sklearn_container.training:main\n",
      "\u001b[36malgo-1-tch93_1  |\u001b[0m SM_INPUT_DIR=/opt/ml/input\n",
      "\u001b[36malgo-1-tch93_1  |\u001b[0m SM_INPUT_CONFIG_DIR=/opt/ml/input/config\n",
      "\u001b[36malgo-1-tch93_1  |\u001b[0m SM_OUTPUT_DIR=/opt/ml/output\n",
      "\u001b[36malgo-1-tch93_1  |\u001b[0m SM_NUM_CPUS=4\n",
      "\u001b[36malgo-1-tch93_1  |\u001b[0m SM_NUM_GPUS=0\n",
      "\u001b[36malgo-1-tch93_1  |\u001b[0m SM_MODEL_DIR=/opt/ml/model\n",
      "\u001b[36malgo-1-tch93_1  |\u001b[0m SM_MODULE_DIR=s3://sagemaker-us-east-1-892313895307/sagemaker-scikit-learn-2020-11-05-04-41-42-347/source/sourcedir.tar.gz\n",
      "\u001b[36malgo-1-tch93_1  |\u001b[0m SM_TRAINING_ENV={\"additional_framework_parameters\":{},\"channel_input_dirs\":{\"test\":\"/opt/ml/input/data/test\",\"train\":\"/opt/ml/input/data/train\"},\"current_host\":\"algo-1-tch93\",\"framework_module\":\"sagemaker_sklearn_container.training:main\",\"hosts\":[\"algo-1-tch93\"],\"hyperparameters\":{},\"input_config_dir\":\"/opt/ml/input/config\",\"input_data_config\":{\"test\":{\"TrainingInputMode\":\"File\"},\"train\":{\"TrainingInputMode\":\"File\"}},\"input_dir\":\"/opt/ml/input\",\"is_master\":true,\"job_name\":\"sagemaker-scikit-learn-2020-11-05-04-41-42-347\",\"log_level\":20,\"master_hostname\":\"algo-1-tch93\",\"model_dir\":\"/opt/ml/model\",\"module_dir\":\"s3://sagemaker-us-east-1-892313895307/sagemaker-scikit-learn-2020-11-05-04-41-42-347/source/sourcedir.tar.gz\",\"module_name\":\"train\",\"network_interface_name\":\"eth0\",\"num_cpus\":4,\"num_gpus\":0,\"output_data_dir\":\"/opt/ml/output/data\",\"output_dir\":\"/opt/ml/output\",\"output_intermediate_dir\":\"/opt/ml/output/intermediate\",\"resource_config\":{\"current_host\":\"algo-1-tch93\",\"hosts\":[\"algo-1-tch93\"]},\"user_entry_point\":\"train.py\"}\n",
      "\u001b[36malgo-1-tch93_1  |\u001b[0m SM_USER_ARGS=[]\n",
      "\u001b[36malgo-1-tch93_1  |\u001b[0m SM_OUTPUT_INTERMEDIATE_DIR=/opt/ml/output/intermediate\n",
      "\u001b[36malgo-1-tch93_1  |\u001b[0m SM_CHANNEL_TRAIN=/opt/ml/input/data/train\n",
      "\u001b[36malgo-1-tch93_1  |\u001b[0m SM_CHANNEL_TEST=/opt/ml/input/data/test\n",
      "\u001b[36malgo-1-tch93_1  |\u001b[0m PYTHONPATH=/opt/ml/code:/miniconda3/bin:/miniconda3/lib/python37.zip:/miniconda3/lib/python3.7:/miniconda3/lib/python3.7/lib-dynload:/miniconda3/lib/python3.7/site-packages\n",
      "\u001b[36malgo-1-tch93_1  |\u001b[0m \n",
      "\u001b[36malgo-1-tch93_1  |\u001b[0m Invoking script with the following command:\n",
      "\u001b[36malgo-1-tch93_1  |\u001b[0m \n",
      "\u001b[36malgo-1-tch93_1  |\u001b[0m /miniconda3/bin/python train.py\n",
      "\u001b[36malgo-1-tch93_1  |\u001b[0m \n",
      "\u001b[36malgo-1-tch93_1  |\u001b[0m \n",
      "\u001b[36malgo-1-tch93_1  |\u001b[0m ------- [STARTING TRAINING] -------\n",
      "\u001b[36malgo-1-tch93_1  |\u001b[0m ------- [TRAINING COMPLETE!] -------\n",
      "\u001b[36malgo-1-tch93_1  |\u001b[0m ------- [STARTING EVALUATION] -------\n",
      "\u001b[36malgo-1-tch93_1  |\u001b[0m Accuracy = 97.73%\n",
      "\u001b[36malgo-1-tch93_1  |\u001b[0m ------- [EVALUATION DONE!] -------\n",
      "\u001b[36malgo-1-tch93_1  |\u001b[0m 2020-11-05 04:41:48,796 sagemaker-training-toolkit INFO     Reporting training SUCCESS\n",
      "\u001b[36mtmpxky4mx6n_algo-1-tch93_1 exited with code 0\n",
      "\u001b[0mAborting on container exit...\n",
      "===== Job Complete =====\n"
     ]
    }
   ],
   "source": [
    "estimator.fit({'train': 'file://.././DATA/train/train.csv', 'test': 'file://.././DATA/test/test.csv'})"
   ]
  },
  {
   "cell_type": "markdown",
   "metadata": {},
   "source": [
    "### Deploy Model as Local Endpoint"
   ]
  },
  {
   "cell_type": "code",
   "execution_count": 6,
   "metadata": {},
   "outputs": [
    {
     "name": "stderr",
     "output_type": "stream",
     "text": [
      "Parameter image will be renamed to image_uri in SageMaker Python SDK v2.\n"
     ]
    },
    {
     "name": "stdout",
     "output_type": "stream",
     "text": [
      "Attaching to tmpf0mztj4u_algo-1-gagtj_1\n",
      "\u001b[36malgo-1-gagtj_1  |\u001b[0m 2020-11-05 04:41:52,757 INFO - sagemaker-containers - No GPUs detected (normal if no gpus installed)\n",
      "\u001b[36malgo-1-gagtj_1  |\u001b[0m 2020-11-05 04:41:52,760 INFO - sagemaker-containers - No GPUs detected (normal if no gpus installed)\n",
      "\u001b[36malgo-1-gagtj_1  |\u001b[0m 2020-11-05 04:41:52,761 INFO - sagemaker-containers - nginx config: \n",
      "\u001b[36malgo-1-gagtj_1  |\u001b[0m worker_processes auto;\n",
      "\u001b[36malgo-1-gagtj_1  |\u001b[0m daemon off;\n",
      "\u001b[36malgo-1-gagtj_1  |\u001b[0m pid /tmp/nginx.pid;\n",
      "\u001b[36malgo-1-gagtj_1  |\u001b[0m error_log  /dev/stderr;\n",
      "\u001b[36malgo-1-gagtj_1  |\u001b[0m \n",
      "\u001b[36malgo-1-gagtj_1  |\u001b[0m worker_rlimit_nofile 4096;\n",
      "\u001b[36malgo-1-gagtj_1  |\u001b[0m \n",
      "\u001b[36malgo-1-gagtj_1  |\u001b[0m events {\n",
      "\u001b[36malgo-1-gagtj_1  |\u001b[0m   worker_connections 2048;\n",
      "\u001b[36malgo-1-gagtj_1  |\u001b[0m }\n",
      "\u001b[36malgo-1-gagtj_1  |\u001b[0m \n",
      "\u001b[36malgo-1-gagtj_1  |\u001b[0m http {\n",
      "\u001b[36malgo-1-gagtj_1  |\u001b[0m   include /etc/nginx/mime.types;\n",
      "\u001b[36malgo-1-gagtj_1  |\u001b[0m   default_type application/octet-stream;\n",
      "\u001b[36malgo-1-gagtj_1  |\u001b[0m   access_log /dev/stdout combined;\n",
      "\u001b[36malgo-1-gagtj_1  |\u001b[0m \n",
      "\u001b[36malgo-1-gagtj_1  |\u001b[0m   upstream gunicorn {\n",
      "\u001b[36malgo-1-gagtj_1  |\u001b[0m     server unix:/tmp/gunicorn.sock;\n",
      "\u001b[36malgo-1-gagtj_1  |\u001b[0m   }\n",
      "\u001b[36malgo-1-gagtj_1  |\u001b[0m \n",
      "\u001b[36malgo-1-gagtj_1  |\u001b[0m   server {\n",
      "\u001b[36malgo-1-gagtj_1  |\u001b[0m     listen 8080 deferred;\n",
      "\u001b[36malgo-1-gagtj_1  |\u001b[0m     client_max_body_size 0;\n",
      "\u001b[36malgo-1-gagtj_1  |\u001b[0m \n",
      "\u001b[36malgo-1-gagtj_1  |\u001b[0m     keepalive_timeout 3;\n",
      "\u001b[36malgo-1-gagtj_1  |\u001b[0m \n",
      "\u001b[36malgo-1-gagtj_1  |\u001b[0m     location ~ ^/(ping|invocations|execution-parameters) {\n",
      "\u001b[36malgo-1-gagtj_1  |\u001b[0m       proxy_set_header X-Forwarded-For $proxy_add_x_forwarded_for;\n",
      "\u001b[36malgo-1-gagtj_1  |\u001b[0m       proxy_set_header Host $http_host;\n",
      "\u001b[36malgo-1-gagtj_1  |\u001b[0m       proxy_redirect off;\n",
      "\u001b[36malgo-1-gagtj_1  |\u001b[0m       proxy_read_timeout 60s;\n",
      "\u001b[36malgo-1-gagtj_1  |\u001b[0m       proxy_pass http://gunicorn;\n",
      "\u001b[36malgo-1-gagtj_1  |\u001b[0m     }\n",
      "\u001b[36malgo-1-gagtj_1  |\u001b[0m \n",
      "\u001b[36malgo-1-gagtj_1  |\u001b[0m     location / {\n",
      "\u001b[36malgo-1-gagtj_1  |\u001b[0m       return 404 \"{}\";\n",
      "\u001b[36malgo-1-gagtj_1  |\u001b[0m     }\n",
      "\u001b[36malgo-1-gagtj_1  |\u001b[0m \n",
      "\u001b[36malgo-1-gagtj_1  |\u001b[0m   }\n",
      "\u001b[36malgo-1-gagtj_1  |\u001b[0m }\n",
      "\u001b[36malgo-1-gagtj_1  |\u001b[0m \n",
      "\u001b[36malgo-1-gagtj_1  |\u001b[0m \n",
      "\u001b[36malgo-1-gagtj_1  |\u001b[0m 2020-11-05 04:41:53,919 INFO - sagemaker-containers - Module train does not provide a setup.py. \n",
      "\u001b[36malgo-1-gagtj_1  |\u001b[0m Generating setup.py\n",
      "\u001b[36malgo-1-gagtj_1  |\u001b[0m 2020-11-05 04:41:53,920 INFO - sagemaker-containers - Generating setup.cfg\n",
      "\u001b[36malgo-1-gagtj_1  |\u001b[0m 2020-11-05 04:41:53,920 INFO - sagemaker-containers - Generating MANIFEST.in\n",
      "\u001b[36malgo-1-gagtj_1  |\u001b[0m 2020-11-05 04:41:53,920 INFO - sagemaker-containers - Installing module with the following command:\n",
      "\u001b[36malgo-1-gagtj_1  |\u001b[0m /miniconda3/bin/python -m pip install . \n",
      "\u001b[36malgo-1-gagtj_1  |\u001b[0m Processing /opt/ml/code\n",
      "\u001b[36malgo-1-gagtj_1  |\u001b[0m Building wheels for collected packages: train\n",
      "\u001b[36malgo-1-gagtj_1  |\u001b[0m   Building wheel for train (setup.py) ... \u001b[?25ldone\n",
      "\u001b[36malgo-1-gagtj_1  |\u001b[0m \u001b[?25h  Created wheel for train: filename=train-1.0.0-py2.py3-none-any.whl size=4841 sha256=71dc8edb7f93b0e4ef499aa9b6734d4e68fab1dcc3a3a7fbce4ea5f9eb3cd0dc\n",
      "\u001b[36malgo-1-gagtj_1  |\u001b[0m   Stored in directory: /home/model-server/tmp/pip-ephem-wheel-cache-9_l2d1qm/wheels/3e/0f/51/2f1df833dd0412c1bc2f5ee56baac195b5be563353d111dca6\n",
      "\u001b[36malgo-1-gagtj_1  |\u001b[0m Successfully built train\n",
      "\u001b[36malgo-1-gagtj_1  |\u001b[0m Installing collected packages: train\n",
      "\u001b[36malgo-1-gagtj_1  |\u001b[0m Successfully installed train-1.0.0\n",
      "\u001b[36malgo-1-gagtj_1  |\u001b[0m 2020/11/05 04:41:55 [crit] 13#13: *1 connect() to unix:/tmp/gunicorn.sock failed (2: No such file or directory) while connecting to upstream, client: 172.18.0.1, server: , request: \"GET /ping HTTP/1.1\", upstream: \"http://unix:/tmp/gunicorn.sock:/ping\", host: \"localhost:8080\"\n",
      "\u001b[36malgo-1-gagtj_1  |\u001b[0m 172.18.0.1 - - [05/Nov/2020:04:41:55 +0000] \"GET /ping HTTP/1.1\" 502 182 \"-\" \"-\"\n",
      "\u001b[36malgo-1-gagtj_1  |\u001b[0m [2020-11-05 04:41:56 +0000] [35] [INFO] Starting gunicorn 20.0.4\n",
      "\u001b[36malgo-1-gagtj_1  |\u001b[0m [2020-11-05 04:41:56 +0000] [35] [INFO] Listening at: unix:/tmp/gunicorn.sock (35)\n",
      "\u001b[36malgo-1-gagtj_1  |\u001b[0m [2020-11-05 04:41:56 +0000] [35] [INFO] Using worker: gevent\n",
      "\u001b[36malgo-1-gagtj_1  |\u001b[0m [2020-11-05 04:41:56 +0000] [38] [INFO] Booting worker with pid: 38\n",
      "\u001b[36malgo-1-gagtj_1  |\u001b[0m [2020-11-05 04:41:56 +0000] [39] [INFO] Booting worker with pid: 39\n",
      "\u001b[36malgo-1-gagtj_1  |\u001b[0m [2020-11-05 04:41:56 +0000] [40] [INFO] Booting worker with pid: 40\n",
      "\u001b[36malgo-1-gagtj_1  |\u001b[0m [2020-11-05 04:41:56 +0000] [41] [INFO] Booting worker with pid: 41\n",
      "\u001b[36malgo-1-gagtj_1  |\u001b[0m 2020-11-05 04:42:00,628 INFO - sagemaker-containers - No GPUs detected (normal if no gpus installed)\n",
      "\u001b[36malgo-1-gagtj_1  |\u001b[0m [-------------- INSIDE MODEL FN --------------]\n",
      "\u001b[36malgo-1-gagtj_1  |\u001b[0m MODEL DIR: /opt/ml/model\n",
      "!\u001b[36malgo-1-gagtj_1  |\u001b[0m 172.18.0.1 - - [05/Nov/2020:04:42:01 +0000] \"GET /ping HTTP/1.1\" 200 0 \"-\" \"-\"\n"
     ]
    }
   ],
   "source": [
    "predictor = estimator.deploy(1, 'local', endpoint_name='byos-sklearn')"
   ]
  },
  {
   "cell_type": "code",
   "execution_count": 7,
   "metadata": {},
   "outputs": [
    {
     "data": {
      "text/plain": [
       "'byos-sklearn'"
      ]
     },
     "execution_count": 7,
     "metadata": {},
     "output_type": "execute_result"
    }
   ],
   "source": [
    "predictor.endpoint"
   ]
  },
  {
   "cell_type": "markdown",
   "metadata": {},
   "source": [
    "### Evaluate Real Time Inference Locally "
   ]
  },
  {
   "cell_type": "code",
   "execution_count": 8,
   "metadata": {},
   "outputs": [],
   "source": [
    "df = pd.read_csv('.././DATA/test/test.csv', header=None)\n",
    "test_df = df.sample(1)"
   ]
  },
  {
   "cell_type": "code",
   "execution_count": 9,
   "metadata": {},
   "outputs": [
    {
     "data": {
      "text/html": [
       "<div>\n",
       "<style scoped>\n",
       "    .dataframe tbody tr th:only-of-type {\n",
       "        vertical-align: middle;\n",
       "    }\n",
       "\n",
       "    .dataframe tbody tr th {\n",
       "        vertical-align: top;\n",
       "    }\n",
       "\n",
       "    .dataframe thead th {\n",
       "        text-align: right;\n",
       "    }\n",
       "</style>\n",
       "<table border=\"1\" class=\"dataframe\">\n",
       "  <thead>\n",
       "    <tr style=\"text-align: right;\">\n",
       "      <th></th>\n",
       "      <th>1</th>\n",
       "      <th>2</th>\n",
       "      <th>3</th>\n",
       "      <th>4</th>\n",
       "    </tr>\n",
       "  </thead>\n",
       "  <tbody>\n",
       "    <tr>\n",
       "      <th>12</th>\n",
       "      <td>0.342857</td>\n",
       "      <td>0.382353</td>\n",
       "      <td>0.553846</td>\n",
       "      <td>0.970588</td>\n",
       "    </tr>\n",
       "  </tbody>\n",
       "</table>\n",
       "</div>"
      ],
      "text/plain": [
       "           1         2         3         4\n",
       "12  0.342857  0.382353  0.553846  0.970588"
      ]
     },
     "execution_count": 9,
     "metadata": {},
     "output_type": "execute_result"
    }
   ],
   "source": [
    "test_df.drop(test_df.columns[[0]], axis=1, inplace=True)\n",
    "test_df"
   ]
  },
  {
   "cell_type": "code",
   "execution_count": 10,
   "metadata": {},
   "outputs": [
    {
     "data": {
      "text/plain": [
       "array([[0.34285714, 0.38235294, 0.55384615, 0.97058824]])"
      ]
     },
     "execution_count": 10,
     "metadata": {},
     "output_type": "execute_result"
    }
   ],
   "source": [
    "test_df.values"
   ]
  },
  {
   "cell_type": "code",
   "execution_count": 11,
   "metadata": {},
   "outputs": [
    {
     "name": "stdout",
     "output_type": "stream",
     "text": [
      "\u001b[36malgo-1-gagtj_1  |\u001b[0m 2020-11-05 04:42:01,432 INFO - sagemaker-containers - No GPUs detected (normal if no gpus installed)\n",
      "\u001b[36malgo-1-gagtj_1  |\u001b[0m [-------------- INSIDE MODEL FN --------------]\n",
      "\u001b[36malgo-1-gagtj_1  |\u001b[0m MODEL DIR: /opt/ml/model\n",
      "\u001b[36malgo-1-gagtj_1  |\u001b[0m [-------------- INSIDE INPUT FN --------------]\n",
      "\u001b[36malgo-1-gagtj_1  |\u001b[0m REQUEST BODY: b\"\\x93NUMPY\\x01\\x00v\\x00{'descr': '<f8', 'fortran_order': False, 'shape': (1, 4), }                                                          \\n\\x15_\\xf1\\x15_\\xf1\\xd5?|xxxxx\\xd8?\\x92\\x1b\\xb9\\x91\\x1b\\xb9\\xe1?\\x10\\x0f\\x0f\\x0f\\x0f\\x0f\\xef?\"\n",
      "\u001b[36malgo-1-gagtj_1  |\u001b[0m REQUEST CONTENT TYPE: application/x-npy\n",
      "\u001b[36malgo-1-gagtj_1  |\u001b[0m [-------------- INSIDE PREDICT FN --------------]\n",
      "\u001b[36malgo-1-gagtj_1  |\u001b[0m INPUT DATA: [[0.34285714 0.38235294 0.55384615 0.97058824]]\n",
      "\u001b[36malgo-1-gagtj_1  |\u001b[0m MODEL: KNeighborsClassifier()\n",
      "\u001b[36malgo-1-gagtj_1  |\u001b[0m [-------------- INSIDE OUTPUT FN --------------]\n",
      "\u001b[36malgo-1-gagtj_1  |\u001b[0m PREDICTION: [0]\n",
      "\u001b[36malgo-1-gagtj_1  |\u001b[0m CONTENT TYPE: application/x-npy\n",
      "\u001b[36malgo-1-gagtj_1  |\u001b[0m 172.18.0.1 - - [05/Nov/2020:04:42:01 +0000] \"POST /invocations HTTP/1.1\" 200 136 \"-\" \"-\"\n"
     ]
    }
   ],
   "source": [
    "prediction = predictor.predict(test_df.values)"
   ]
  },
  {
   "cell_type": "code",
   "execution_count": 12,
   "metadata": {},
   "outputs": [
    {
     "data": {
      "text/plain": [
       "array([0])"
      ]
     },
     "execution_count": 12,
     "metadata": {},
     "output_type": "execute_result"
    }
   ],
   "source": [
    "prediction"
   ]
  },
  {
   "cell_type": "code",
   "execution_count": null,
   "metadata": {},
   "outputs": [],
   "source": []
  },
  {
   "cell_type": "code",
   "execution_count": null,
   "metadata": {},
   "outputs": [],
   "source": []
  }
 ],
 "metadata": {
  "kernelspec": {
   "display_name": "conda_python3",
   "language": "python",
   "name": "conda_python3"
  },
  "language_info": {
   "codemirror_mode": {
    "name": "ipython",
    "version": 3
   },
   "file_extension": ".py",
   "mimetype": "text/x-python",
   "name": "python",
   "nbconvert_exporter": "python",
   "pygments_lexer": "ipython3",
   "version": "3.6.10"
  }
 },
 "nbformat": 4,
 "nbformat_minor": 4
}
