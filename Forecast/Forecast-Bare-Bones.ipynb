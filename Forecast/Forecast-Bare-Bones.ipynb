{
 "cells": [
  {
   "cell_type": "markdown",
   "metadata": {},
   "source": [
    "#### Imports "
   ]
  },
  {
   "cell_type": "code",
   "execution_count": 81,
   "metadata": {},
   "outputs": [],
   "source": [
    "import dateutil.parser as dt_parser\n",
    "import pandas as pd\n",
    "import boto3\n",
    "import time\n",
    "import json\n",
    "import sys\n",
    "import os"
   ]
  },
  {
   "cell_type": "markdown",
   "metadata": {},
   "source": [
    "#### 1. Essentials "
   ]
  },
  {
   "cell_type": "code",
   "execution_count": 9,
   "metadata": {},
   "outputs": [],
   "source": [
    "DATASET_FREQUENCY = 'H'\n",
    "TIMESTAMP_FORMAT = 'yyyy-MM-dd hh:mm:ss'\n",
    "BUCKET = 'forecast-demo-892313895307'\n",
    "REGION = 'us-east-1'\n",
    "\n",
    "session = boto3.Session(region_name=REGION) \n",
    "forecast = session.client(service_name='forecast') \n",
    "forecastquery = session.client(service_name='forecastquery')"
   ]
  },
  {
   "cell_type": "markdown",
   "metadata": {},
   "source": [
    "#### 2. Prep & Explore Data"
   ]
  },
  {
   "cell_type": "code",
   "execution_count": 37,
   "metadata": {},
   "outputs": [
    {
     "data": {
      "text/html": [
       "<div>\n",
       "<style scoped>\n",
       "    .dataframe tbody tr th:only-of-type {\n",
       "        vertical-align: middle;\n",
       "    }\n",
       "\n",
       "    .dataframe tbody tr th {\n",
       "        vertical-align: top;\n",
       "    }\n",
       "\n",
       "    .dataframe thead th {\n",
       "        text-align: right;\n",
       "    }\n",
       "</style>\n",
       "<table border=\"1\" class=\"dataframe\">\n",
       "  <thead>\n",
       "    <tr style=\"text-align: right;\">\n",
       "      <th></th>\n",
       "      <th>timestamp</th>\n",
       "      <th>value</th>\n",
       "      <th>item</th>\n",
       "    </tr>\n",
       "  </thead>\n",
       "  <tbody>\n",
       "    <tr>\n",
       "      <th>0</th>\n",
       "      <td>2014-01-01 01:00:00</td>\n",
       "      <td>38.34991708126038</td>\n",
       "      <td>client_12</td>\n",
       "    </tr>\n",
       "    <tr>\n",
       "      <th>1</th>\n",
       "      <td>2014-01-01 02:00:00</td>\n",
       "      <td>33.5820895522388</td>\n",
       "      <td>client_12</td>\n",
       "    </tr>\n",
       "    <tr>\n",
       "      <th>2</th>\n",
       "      <td>2014-01-01 03:00:00</td>\n",
       "      <td>34.41127694859037</td>\n",
       "      <td>client_12</td>\n",
       "    </tr>\n",
       "  </tbody>\n",
       "</table>\n",
       "</div>"
      ],
      "text/plain": [
       "             timestamp              value       item\n",
       "0  2014-01-01 01:00:00  38.34991708126038  client_12\n",
       "1  2014-01-01 02:00:00   33.5820895522388  client_12\n",
       "2  2014-01-01 03:00:00  34.41127694859037  client_12"
      ]
     },
     "execution_count": 37,
     "metadata": {},
     "output_type": "execute_result"
    }
   ],
   "source": [
    "df = pd.read_csv('./DATA/train.csv', dtype=object, names=['timestamp', 'value', 'item'])\n",
    "df.head(3)"
   ]
  },
  {
   "cell_type": "markdown",
   "metadata": {},
   "source": [
    "Notice in the output above there are 3 columns of data:\n",
    "\n",
    "a. Timestamp <br> b. Value <br> c. Item <br> <br>\n",
    "These are the 3 key required pieces of information to generate a forecast with Amazon Forecast. <br>\n",
    "More can be added but these 3 must always remain present."
   ]
  },
  {
   "cell_type": "markdown",
   "metadata": {},
   "source": [
    "#### 3. Upload Data to S3"
   ]
  },
  {
   "cell_type": "code",
   "execution_count": 4,
   "metadata": {},
   "outputs": [],
   "source": [
    "key = 'train.csv'\n",
    "session.resource('s3').Bucket(BUCKET).Object(key).upload_file('./DATA/train.csv')"
   ]
  },
  {
   "cell_type": "markdown",
   "metadata": {},
   "source": [
    "#### 4. Create Dataset Group"
   ]
  },
  {
   "cell_type": "code",
   "execution_count": 5,
   "metadata": {},
   "outputs": [
    {
     "data": {
      "text/plain": [
       "'arn:aws:forecast:us-east-1:892313895307:dataset-group/forecast_demo_dataset_group'"
      ]
     },
     "execution_count": 5,
     "metadata": {},
     "output_type": "execute_result"
    }
   ],
   "source": [
    "create_dataset_group_response = forecast.create_dataset_group(DatasetGroupName='forecast_demo_dataset_group',\n",
    "                                                              Domain='CUSTOM',\n",
    "                                                             )\n",
    "datasetGroupArn = create_dataset_group_response['DatasetGroupArn']\n",
    "datasetGroupArn"
   ]
  },
  {
   "cell_type": "markdown",
   "metadata": {},
   "source": [
    "#### 5. Create Schema & Dataset"
   ]
  },
  {
   "cell_type": "code",
   "execution_count": 7,
   "metadata": {},
   "outputs": [],
   "source": [
    "schema = {\n",
    "   \"Attributes\": [\n",
    "      {\n",
    "         \"AttributeName\": \"timestamp\",\n",
    "         \"AttributeType\": \"timestamp\"\n",
    "      },\n",
    "      {\n",
    "         \"AttributeName\": \"target_value\",\n",
    "         \"AttributeType\": \"float\"\n",
    "      },\n",
    "      {\n",
    "         \"AttributeName\": \"item_id\",\n",
    "         \"AttributeType\": \"string\"\n",
    "      }\n",
    "   ]\n",
    "}"
   ]
  },
  {
   "cell_type": "code",
   "execution_count": 11,
   "metadata": {},
   "outputs": [],
   "source": [
    "response=forecast.create_dataset(\n",
    "                    Domain='CUSTOM',\n",
    "                    DatasetType='TARGET_TIME_SERIES',\n",
    "                    DatasetName='forecast_demo_dataset',\n",
    "                    DataFrequency=DATASET_FREQUENCY, \n",
    "                    Schema = schema\n",
    ")"
   ]
  },
  {
   "cell_type": "code",
   "execution_count": 38,
   "metadata": {},
   "outputs": [
    {
     "data": {
      "text/plain": [
       "'arn:aws:forecast:us-east-1:892313895307:dataset/forecast_demo_dataset'"
      ]
     },
     "execution_count": 38,
     "metadata": {},
     "output_type": "execute_result"
    }
   ],
   "source": [
    "datasetArn = response['DatasetArn']\n",
    "datasetArn"
   ]
  },
  {
   "cell_type": "markdown",
   "metadata": {},
   "source": [
    "#### 6. Add Dataset to Dataset Group"
   ]
  },
  {
   "cell_type": "code",
   "execution_count": 13,
   "metadata": {},
   "outputs": [
    {
     "data": {
      "text/plain": [
       "{'ResponseMetadata': {'RequestId': '7db3ab51-94c0-4993-a15a-600efc8a300d',\n",
       "  'HTTPStatusCode': 200,\n",
       "  'HTTPHeaders': {'content-type': 'application/x-amz-json-1.1',\n",
       "   'date': 'Thu, 15 Oct 2020 20:01:07 GMT',\n",
       "   'x-amzn-requestid': '7db3ab51-94c0-4993-a15a-600efc8a300d',\n",
       "   'content-length': '2',\n",
       "   'connection': 'keep-alive'},\n",
       "  'RetryAttempts': 0}}"
      ]
     },
     "execution_count": 13,
     "metadata": {},
     "output_type": "execute_result"
    }
   ],
   "source": [
    "forecast.update_dataset_group(DatasetGroupArn=datasetGroupArn, DatasetArns=[datasetArn])"
   ]
  },
  {
   "cell_type": "markdown",
   "metadata": {},
   "source": [
    "#### 7. Create Data Import Job"
   ]
  },
  {
   "cell_type": "code",
   "execution_count": 16,
   "metadata": {},
   "outputs": [],
   "source": [
    "datasetImportJobName = 'FORECAST_DEMO_DATA_IMPORT'\n",
    "ds_import_job_response = forecast.create_dataset_import_job(DatasetImportJobName=datasetImportJobName, \n",
    "                                                            DatasetArn=datasetArn,\n",
    "                                                            DataSource={\n",
    "                                                                \"S3Config\" : {\n",
    "                                                                \"Path\": \"s3://forecast-demo-892313895307/train.csv\",\n",
    "                                                                \"RoleArn\": \"arn:aws:iam::892313895307:role/service-role/AmazonForecast-ExecutionRole-1590117655708\"\n",
    "                                                                } \n",
    "                                                            }, \n",
    "                                                            TimestampFormat=TIMESTAMP_FORMAT)"
   ]
  },
  {
   "cell_type": "code",
   "execution_count": 18,
   "metadata": {},
   "outputs": [
    {
     "name": "stdout",
     "output_type": "stream",
     "text": [
      "arn:aws:forecast:us-east-1:892313895307:dataset-import-job/forecast_demo_dataset/FORECAST_DEMO_DATA_IMPORT\n"
     ]
    }
   ],
   "source": [
    "ds_import_job_arn = ds_import_job_response['DatasetImportJobArn']\n",
    "print(ds_import_job_arn)"
   ]
  },
  {
   "cell_type": "code",
   "execution_count": 20,
   "metadata": {},
   "outputs": [
    {
     "data": {
      "text/plain": [
       "'ACTIVE'"
      ]
     },
     "execution_count": 20,
     "metadata": {},
     "output_type": "execute_result"
    }
   ],
   "source": [
    "status = forecast.describe_dataset_import_job(DatasetImportJobArn=ds_import_job_arn)['Status']\n",
    "status"
   ]
  },
  {
   "cell_type": "code",
   "execution_count": 21,
   "metadata": {},
   "outputs": [
    {
     "data": {
      "text/plain": [
       "{'DatasetImportJobName': 'FORECAST_DEMO_DATA_IMPORT',\n",
       " 'DatasetImportJobArn': 'arn:aws:forecast:us-east-1:892313895307:dataset-import-job/forecast_demo_dataset/FORECAST_DEMO_DATA_IMPORT',\n",
       " 'DatasetArn': 'arn:aws:forecast:us-east-1:892313895307:dataset/forecast_demo_dataset',\n",
       " 'TimestampFormat': 'yyyy-MM-dd hh:mm:ss',\n",
       " 'DataSource': {'S3Config': {'Path': 's3://forecast-demo-892313895307/train.csv',\n",
       "   'RoleArn': 'arn:aws:iam::892313895307:role/service-role/AmazonForecast-ExecutionRole-1590117655708'}},\n",
       " 'FieldStatistics': {'item_id': {'Count': 21885,\n",
       "   'CountDistinct': 3,\n",
       "   'CountNull': 0},\n",
       "  'target_value': {'Count': 21885,\n",
       "   'CountDistinct': 4635,\n",
       "   'CountNull': 0,\n",
       "   'CountNan': 0,\n",
       "   'Min': '0.0',\n",
       "   'Max': '209.99170812603649',\n",
       "   'Avg': 50.09474329868638,\n",
       "   'Stddev': 38.47197571594978},\n",
       "  'timestamp': {'Count': 21885,\n",
       "   'CountDistinct': 7295,\n",
       "   'CountNull': 0,\n",
       "   'Min': '2014-01-01T01:00:00Z',\n",
       "   'Max': '2014-10-31T23:00:00Z'}},\n",
       " 'DataSize': 0.0009746281430125237,\n",
       " 'Status': 'ACTIVE',\n",
       " 'CreationTime': datetime.datetime(2020, 10, 15, 20, 16, 31, 605000, tzinfo=tzlocal()),\n",
       " 'LastModificationTime': datetime.datetime(2020, 10, 15, 20, 24, 7, 936000, tzinfo=tzlocal()),\n",
       " 'ResponseMetadata': {'RequestId': 'fb348501-534b-4705-81cb-a9bbd550e6b5',\n",
       "  'HTTPStatusCode': 200,\n",
       "  'HTTPHeaders': {'content-type': 'application/x-amz-json-1.1',\n",
       "   'date': 'Thu, 15 Oct 2020 20:31:08 GMT',\n",
       "   'x-amzn-requestid': 'fb348501-534b-4705-81cb-a9bbd550e6b5',\n",
       "   'content-length': '1204',\n",
       "   'connection': 'keep-alive'},\n",
       "  'RetryAttempts': 0}}"
      ]
     },
     "execution_count": 21,
     "metadata": {},
     "output_type": "execute_result"
    }
   ],
   "source": [
    "forecast.describe_dataset_import_job(DatasetImportJobArn=ds_import_job_arn)"
   ]
  },
  {
   "cell_type": "markdown",
   "metadata": {},
   "source": [
    "#### 8. Create a Predictor (Model Training Step)"
   ]
  },
  {
   "cell_type": "markdown",
   "metadata": {},
   "source": [
    "Forecast horizon is the number of number of time points to predicted in the future. For weekly data, a value of 12 means 12 weeks. Our example is hourly data, we try forecast the next day, so we can set to 24."
   ]
  },
  {
   "cell_type": "code",
   "execution_count": 23,
   "metadata": {},
   "outputs": [],
   "source": [
    "algorithmArn = 'arn:aws:forecast:::algorithm/Deep_AR_Plus'\n",
    "forecastHorizon = 24"
   ]
  },
  {
   "cell_type": "code",
   "execution_count": 25,
   "metadata": {},
   "outputs": [],
   "source": [
    "create_predictor_response = forecast.create_predictor(\n",
    "                                                PredictorName='DeepAR_Demo', \n",
    "                                                AlgorithmArn=algorithmArn,\n",
    "                                                ForecastHorizon=forecastHorizon,\n",
    "                                                PerformAutoML= False,\n",
    "                                                PerformHPO=False,\n",
    "                                                EvaluationParameters= {\"NumberOfBacktestWindows\": 1, \n",
    "                                                                     \"BackTestWindowOffset\": 24}, \n",
    "                                                InputDataConfig= {\"DatasetGroupArn\": datasetGroupArn},\n",
    "                                                FeaturizationConfig= {\"ForecastFrequency\": \"H\", \n",
    "                                                                    \"Featurizations\": \n",
    "                                                                    [\n",
    "                                                                      {\"AttributeName\": \"target_value\", \n",
    "                                                                       \"FeaturizationPipeline\": \n",
    "                                                                        [\n",
    "                                                                          {\"FeaturizationMethodName\": \"filling\", \n",
    "                                                                           \"FeaturizationMethodParameters\": \n",
    "                                                                            {\"frontfill\": \"none\", \n",
    "                                                                             \"middlefill\": \"zero\", \n",
    "                                                                             \"backfill\": \"zero\"}\n",
    "                                                                          }\n",
    "                                                                        ]\n",
    "                                                                      }\n",
    "                                                                    ]\n",
    "                                                                   })"
   ]
  },
  {
   "cell_type": "code",
   "execution_count": 26,
   "metadata": {},
   "outputs": [
    {
     "data": {
      "text/plain": [
       "{'PredictorArn': 'arn:aws:forecast:us-east-1:892313895307:predictor/DeepAR_Demo',\n",
       " 'ResponseMetadata': {'RequestId': 'e5fa1165-57d7-4ec7-9ac9-5d68473cdd18',\n",
       "  'HTTPStatusCode': 200,\n",
       "  'HTTPHeaders': {'content-type': 'application/x-amz-json-1.1',\n",
       "   'date': 'Thu, 15 Oct 2020 20:35:38 GMT',\n",
       "   'x-amzn-requestid': 'e5fa1165-57d7-4ec7-9ac9-5d68473cdd18',\n",
       "   'content-length': '80',\n",
       "   'connection': 'keep-alive'},\n",
       "  'RetryAttempts': 0}}"
      ]
     },
     "execution_count": 26,
     "metadata": {},
     "output_type": "execute_result"
    }
   ],
   "source": [
    "create_predictor_response"
   ]
  },
  {
   "cell_type": "code",
   "execution_count": 28,
   "metadata": {},
   "outputs": [
    {
     "data": {
      "text/plain": [
       "'arn:aws:forecast:us-east-1:892313895307:predictor/DeepAR_Demo'"
      ]
     },
     "execution_count": 28,
     "metadata": {},
     "output_type": "execute_result"
    }
   ],
   "source": [
    "predictor_arn = create_predictor_response['PredictorArn']\n",
    "predictor_arn"
   ]
  },
  {
   "cell_type": "code",
   "execution_count": 44,
   "metadata": {},
   "outputs": [
    {
     "data": {
      "text/plain": [
       "'ACTIVE'"
      ]
     },
     "execution_count": 44,
     "metadata": {},
     "output_type": "execute_result"
    }
   ],
   "source": [
    "status = forecast.describe_predictor(PredictorArn=predictor_arn)['Status']\n",
    "status"
   ]
  },
  {
   "cell_type": "markdown",
   "metadata": {},
   "source": [
    "#### Get Error Metrics "
   ]
  },
  {
   "cell_type": "code",
   "execution_count": 45,
   "metadata": {},
   "outputs": [
    {
     "data": {
      "text/plain": [
       "{'PredictorEvaluationResults': [{'AlgorithmArn': 'arn:aws:forecast:::algorithm/Deep_AR_Plus',\n",
       "   'TestWindows': [{'EvaluationType': 'SUMMARY',\n",
       "     'Metrics': {'RMSE': 19.542885831168935,\n",
       "      'WeightedQuantileLosses': [{'Quantile': 0.9,\n",
       "        'LossValue': 0.09109362998309353},\n",
       "       {'Quantile': 0.5, 'LossValue': 0.26745366761597034},\n",
       "       {'Quantile': 0.1, 'LossValue': 0.20455233693856245}]}},\n",
       "    {'TestWindowStart': datetime.datetime(2014, 10, 31, 0, 0, tzinfo=tzlocal()),\n",
       "     'TestWindowEnd': datetime.datetime(2014, 11, 1, 0, 0, tzinfo=tzlocal()),\n",
       "     'ItemCount': 3,\n",
       "     'EvaluationType': 'COMPUTED',\n",
       "     'Metrics': {'RMSE': 19.542885831168935,\n",
       "      'WeightedQuantileLosses': [{'Quantile': 0.9,\n",
       "        'LossValue': 0.09109362998309353},\n",
       "       {'Quantile': 0.5, 'LossValue': 0.26745366761597034},\n",
       "       {'Quantile': 0.1, 'LossValue': 0.20455233693856245}]}}]}],\n",
       " 'ResponseMetadata': {'RequestId': '3dd0d6db-cbf5-4888-bb1f-e3721245ae93',\n",
       "  'HTTPStatusCode': 200,\n",
       "  'HTTPHeaders': {'content-type': 'application/x-amz-json-1.1',\n",
       "   'date': 'Fri, 16 Oct 2020 15:40:52 GMT',\n",
       "   'x-amzn-requestid': '3dd0d6db-cbf5-4888-bb1f-e3721245ae93',\n",
       "   'content-length': '661',\n",
       "   'connection': 'keep-alive'},\n",
       "  'RetryAttempts': 0}}"
      ]
     },
     "execution_count": 45,
     "metadata": {},
     "output_type": "execute_result"
    }
   ],
   "source": [
    "forecast.get_accuracy_metrics(PredictorArn=predictor_arn)"
   ]
  },
  {
   "cell_type": "markdown",
   "metadata": {},
   "source": [
    "#### 9. Host the Model for Inference "
   ]
  },
  {
   "cell_type": "code",
   "execution_count": 50,
   "metadata": {},
   "outputs": [],
   "source": [
    "forecast_name = 'forecast_deep_ar'"
   ]
  },
  {
   "cell_type": "code",
   "execution_count": 51,
   "metadata": {},
   "outputs": [],
   "source": [
    "create_forecast_response = forecast.create_forecast(ForecastName=forecast_name, \n",
    "                                                    PredictorArn=predictor_arn)\n",
    "forecast_arn = create_forecast_response['ForecastArn']"
   ]
  },
  {
   "cell_type": "code",
   "execution_count": 58,
   "metadata": {},
   "outputs": [
    {
     "data": {
      "text/plain": [
       "'ACTIVE'"
      ]
     },
     "execution_count": 58,
     "metadata": {},
     "output_type": "execute_result"
    }
   ],
   "source": [
    "status = forecast.describe_forecast(ForecastArn=forecast_arn)['Status']\n",
    "status"
   ]
  },
  {
   "cell_type": "markdown",
   "metadata": {},
   "source": [
    "#### 10. Test Inference"
   ]
  },
  {
   "cell_type": "code",
   "execution_count": 61,
   "metadata": {},
   "outputs": [
    {
     "name": "stdout",
     "output_type": "stream",
     "text": [
      "arn:aws:forecast:us-east-1:892313895307:forecast/forecast_deep_ar\n",
      "\n",
      "{\n",
      "    \"Forecast\": {\n",
      "        \"Predictions\": {\n",
      "            \"p10\": [\n",
      "                {\n",
      "                    \"Timestamp\": \"2014-11-01T00:00:00\",\n",
      "                    \"Value\": 38.10956954956055\n",
      "                },\n",
      "                {\n",
      "                    \"Timestamp\": \"2014-11-01T01:00:00\",\n",
      "                    \"Value\": 32.248226165771484\n",
      "                },\n",
      "                {\n",
      "                    \"Timestamp\": \"2014-11-01T02:00:00\",\n",
      "                    \"Value\": 29.114925384521484\n",
      "                },\n",
      "                {\n",
      "                    \"Timestamp\": \"2014-11-01T03:00:00\",\n",
      "                    \"Value\": 20.245988845825195\n",
      "                },\n",
      "                {\n",
      "                    \"Timestamp\": \"2014-11-01T04:00:00\",\n",
      "                    \"Value\": 15.206353187561035\n",
      "                },\n",
      "                {\n",
      "                    \"Timestamp\": \"2014-11-01T05:00:00\",\n",
      "                    \"Value\": 14.061107635498047\n",
      "                },\n",
      "                {\n",
      "                    \"Timestamp\": \"2014-11-01T06:00:00\",\n",
      "                    \"Value\": 12.142796516418457\n",
      "                },\n",
      "                {\n",
      "                    \"Timestamp\": \"2014-11-01T07:00:00\",\n",
      "                    \"Value\": 12.177221298217773\n",
      "                },\n",
      "                {\n",
      "                    \"Timestamp\": \"2014-11-01T08:00:00\",\n",
      "                    \"Value\": 18.176559448242188\n",
      "                },\n",
      "                {\n",
      "                    \"Timestamp\": \"2014-11-01T09:00:00\",\n",
      "                    \"Value\": 41.74602127075195\n",
      "                },\n",
      "                {\n",
      "                    \"Timestamp\": \"2014-11-01T10:00:00\",\n",
      "                    \"Value\": 48.946441650390625\n",
      "                },\n",
      "                {\n",
      "                    \"Timestamp\": \"2014-11-01T11:00:00\",\n",
      "                    \"Value\": 42.14883041381836\n",
      "                },\n",
      "                {\n",
      "                    \"Timestamp\": \"2014-11-01T12:00:00\",\n",
      "                    \"Value\": 40.02595138549805\n",
      "                },\n",
      "                {\n",
      "                    \"Timestamp\": \"2014-11-01T13:00:00\",\n",
      "                    \"Value\": 28.99954605102539\n",
      "                },\n",
      "                {\n",
      "                    \"Timestamp\": \"2014-11-01T14:00:00\",\n",
      "                    \"Value\": 28.58249855041504\n",
      "                },\n",
      "                {\n",
      "                    \"Timestamp\": \"2014-11-01T15:00:00\",\n",
      "                    \"Value\": 39.51888656616211\n",
      "                },\n",
      "                {\n",
      "                    \"Timestamp\": \"2014-11-01T16:00:00\",\n",
      "                    \"Value\": 30.36171531677246\n",
      "                },\n",
      "                {\n",
      "                    \"Timestamp\": \"2014-11-01T17:00:00\",\n",
      "                    \"Value\": 37.042327880859375\n",
      "                },\n",
      "                {\n",
      "                    \"Timestamp\": \"2014-11-01T18:00:00\",\n",
      "                    \"Value\": 34.16349411010742\n",
      "                },\n",
      "                {\n",
      "                    \"Timestamp\": \"2014-11-01T19:00:00\",\n",
      "                    \"Value\": 25.918153762817383\n",
      "                },\n",
      "                {\n",
      "                    \"Timestamp\": \"2014-11-01T20:00:00\",\n",
      "                    \"Value\": 23.880271911621094\n",
      "                },\n",
      "                {\n",
      "                    \"Timestamp\": \"2014-11-01T21:00:00\",\n",
      "                    \"Value\": 13.98472785949707\n",
      "                },\n",
      "                {\n",
      "                    \"Timestamp\": \"2014-11-01T22:00:00\",\n",
      "                    \"Value\": 9.136497497558594\n",
      "                },\n",
      "                {\n",
      "                    \"Timestamp\": \"2014-11-01T23:00:00\",\n",
      "                    \"Value\": 4.216549873352051\n",
      "                }\n",
      "            ],\n",
      "            \"p50\": [\n",
      "                {\n",
      "                    \"Timestamp\": \"2014-11-01T00:00:00\",\n",
      "                    \"Value\": 44.133853912353516\n",
      "                },\n",
      "                {\n",
      "                    \"Timestamp\": \"2014-11-01T01:00:00\",\n",
      "                    \"Value\": 37.37851333618164\n",
      "                },\n",
      "                {\n",
      "                    \"Timestamp\": \"2014-11-01T02:00:00\",\n",
      "                    \"Value\": 32.856689453125\n",
      "                },\n",
      "                {\n",
      "                    \"Timestamp\": \"2014-11-01T03:00:00\",\n",
      "                    \"Value\": 24.00967025756836\n",
      "                },\n",
      "                {\n",
      "                    \"Timestamp\": \"2014-11-01T04:00:00\",\n",
      "                    \"Value\": 18.94382667541504\n",
      "                },\n",
      "                {\n",
      "                    \"Timestamp\": \"2014-11-01T05:00:00\",\n",
      "                    \"Value\": 18.960411071777344\n",
      "                },\n",
      "                {\n",
      "                    \"Timestamp\": \"2014-11-01T06:00:00\",\n",
      "                    \"Value\": 16.180906295776367\n",
      "                },\n",
      "                {\n",
      "                    \"Timestamp\": \"2014-11-01T07:00:00\",\n",
      "                    \"Value\": 15.716458320617676\n",
      "                },\n",
      "                {\n",
      "                    \"Timestamp\": \"2014-11-01T08:00:00\",\n",
      "                    \"Value\": 24.639240264892578\n",
      "                },\n",
      "                {\n",
      "                    \"Timestamp\": \"2014-11-01T09:00:00\",\n",
      "                    \"Value\": 55.775840759277344\n",
      "                },\n",
      "                {\n",
      "                    \"Timestamp\": \"2014-11-01T10:00:00\",\n",
      "                    \"Value\": 59.61143112182617\n",
      "                },\n",
      "                {\n",
      "                    \"Timestamp\": \"2014-11-01T11:00:00\",\n",
      "                    \"Value\": 53.37136459350586\n",
      "                },\n",
      "                {\n",
      "                    \"Timestamp\": \"2014-11-01T12:00:00\",\n",
      "                    \"Value\": 51.78570556640625\n",
      "                },\n",
      "                {\n",
      "                    \"Timestamp\": \"2014-11-01T13:00:00\",\n",
      "                    \"Value\": 43.12615203857422\n",
      "                },\n",
      "                {\n",
      "                    \"Timestamp\": \"2014-11-01T14:00:00\",\n",
      "                    \"Value\": 38.67213821411133\n",
      "                },\n",
      "                {\n",
      "                    \"Timestamp\": \"2014-11-01T15:00:00\",\n",
      "                    \"Value\": 49.95509338378906\n",
      "                },\n",
      "                {\n",
      "                    \"Timestamp\": \"2014-11-01T16:00:00\",\n",
      "                    \"Value\": 46.85365676879883\n",
      "                },\n",
      "                {\n",
      "                    \"Timestamp\": \"2014-11-01T17:00:00\",\n",
      "                    \"Value\": 49.43379592895508\n",
      "                },\n",
      "                {\n",
      "                    \"Timestamp\": \"2014-11-01T18:00:00\",\n",
      "                    \"Value\": 44.0400505065918\n",
      "                },\n",
      "                {\n",
      "                    \"Timestamp\": \"2014-11-01T19:00:00\",\n",
      "                    \"Value\": 36.23230743408203\n",
      "                },\n",
      "                {\n",
      "                    \"Timestamp\": \"2014-11-01T20:00:00\",\n",
      "                    \"Value\": 33.17633056640625\n",
      "                },\n",
      "                {\n",
      "                    \"Timestamp\": \"2014-11-01T21:00:00\",\n",
      "                    \"Value\": 21.088897705078125\n",
      "                },\n",
      "                {\n",
      "                    \"Timestamp\": \"2014-11-01T22:00:00\",\n",
      "                    \"Value\": 17.148822784423828\n",
      "                },\n",
      "                {\n",
      "                    \"Timestamp\": \"2014-11-01T23:00:00\",\n",
      "                    \"Value\": 12.425034523010254\n",
      "                }\n",
      "            ],\n",
      "            \"p90\": [\n",
      "                {\n",
      "                    \"Timestamp\": \"2014-11-01T00:00:00\",\n",
      "                    \"Value\": 49.08949279785156\n",
      "                },\n",
      "                {\n",
      "                    \"Timestamp\": \"2014-11-01T01:00:00\",\n",
      "                    \"Value\": 42.317073822021484\n",
      "                },\n",
      "                {\n",
      "                    \"Timestamp\": \"2014-11-01T02:00:00\",\n",
      "                    \"Value\": 38.09700012207031\n",
      "                },\n",
      "                {\n",
      "                    \"Timestamp\": \"2014-11-01T03:00:00\",\n",
      "                    \"Value\": 29.17330551147461\n",
      "                },\n",
      "                {\n",
      "                    \"Timestamp\": \"2014-11-01T04:00:00\",\n",
      "                    \"Value\": 23.35426139831543\n",
      "                },\n",
      "                {\n",
      "                    \"Timestamp\": \"2014-11-01T05:00:00\",\n",
      "                    \"Value\": 23.935527801513672\n",
      "                },\n",
      "                {\n",
      "                    \"Timestamp\": \"2014-11-01T06:00:00\",\n",
      "                    \"Value\": 20.270671844482422\n",
      "                },\n",
      "                {\n",
      "                    \"Timestamp\": \"2014-11-01T07:00:00\",\n",
      "                    \"Value\": 21.076797485351562\n",
      "                },\n",
      "                {\n",
      "                    \"Timestamp\": \"2014-11-01T08:00:00\",\n",
      "                    \"Value\": 33.98575973510742\n",
      "                },\n",
      "                {\n",
      "                    \"Timestamp\": \"2014-11-01T09:00:00\",\n",
      "                    \"Value\": 66.42562103271484\n",
      "                },\n",
      "                {\n",
      "                    \"Timestamp\": \"2014-11-01T10:00:00\",\n",
      "                    \"Value\": 75.80229949951172\n",
      "                },\n",
      "                {\n",
      "                    \"Timestamp\": \"2014-11-01T11:00:00\",\n",
      "                    \"Value\": 67.8222885131836\n",
      "                },\n",
      "                {\n",
      "                    \"Timestamp\": \"2014-11-01T12:00:00\",\n",
      "                    \"Value\": 70.61376953125\n",
      "                },\n",
      "                {\n",
      "                    \"Timestamp\": \"2014-11-01T13:00:00\",\n",
      "                    \"Value\": 55.0137939453125\n",
      "                },\n",
      "                {\n",
      "                    \"Timestamp\": \"2014-11-01T14:00:00\",\n",
      "                    \"Value\": 51.797996520996094\n",
      "                },\n",
      "                {\n",
      "                    \"Timestamp\": \"2014-11-01T15:00:00\",\n",
      "                    \"Value\": 64.2918930053711\n",
      "                },\n",
      "                {\n",
      "                    \"Timestamp\": \"2014-11-01T16:00:00\",\n",
      "                    \"Value\": 57.889984130859375\n",
      "                },\n",
      "                {\n",
      "                    \"Timestamp\": \"2014-11-01T17:00:00\",\n",
      "                    \"Value\": 60.1889762878418\n",
      "                },\n",
      "                {\n",
      "                    \"Timestamp\": \"2014-11-01T18:00:00\",\n",
      "                    \"Value\": 58.21329116821289\n",
      "                },\n",
      "                {\n",
      "                    \"Timestamp\": \"2014-11-01T19:00:00\",\n",
      "                    \"Value\": 49.23027420043945\n",
      "                },\n",
      "                {\n",
      "                    \"Timestamp\": \"2014-11-01T20:00:00\",\n",
      "                    \"Value\": 48.036376953125\n",
      "                },\n",
      "                {\n",
      "                    \"Timestamp\": \"2014-11-01T21:00:00\",\n",
      "                    \"Value\": 32.09622573852539\n",
      "                },\n",
      "                {\n",
      "                    \"Timestamp\": \"2014-11-01T22:00:00\",\n",
      "                    \"Value\": 25.11033821105957\n",
      "                },\n",
      "                {\n",
      "                    \"Timestamp\": \"2014-11-01T23:00:00\",\n",
      "                    \"Value\": 22.290481567382812\n",
      "                }\n",
      "            ]\n",
      "        }\n",
      "    },\n",
      "    \"ResponseMetadata\": {\n",
      "        \"RequestId\": \"887a173a-934f-49f8-9fb0-1de38ed1a174\",\n",
      "        \"HTTPStatusCode\": 200,\n",
      "        \"HTTPHeaders\": {\n",
      "            \"content-type\": \"application/x-amz-json-1.1\",\n",
      "            \"date\": \"Fri, 16 Oct 2020 16:28:58 GMT\",\n",
      "            \"x-amzn-requestid\": \"887a173a-934f-49f8-9fb0-1de38ed1a174\",\n",
      "            \"content-length\": \"4534\",\n",
      "            \"connection\": \"keep-alive\"\n",
      "        },\n",
      "        \"RetryAttempts\": 0\n",
      "    }\n",
      "}\n"
     ]
    }
   ],
   "source": [
    "print(forecast_arn)\n",
    "print()\n",
    "forecastResponse = forecastquery.query_forecast(\n",
    "    ForecastArn=forecast_arn,\n",
    "    Filters={\"item_id\": \"client_12\"}\n",
    ")\n",
    "print(json.dumps(forecastResponse, indent=4))"
   ]
  },
  {
   "cell_type": "markdown",
   "metadata": {},
   "source": [
    "##### Test Inference against Validation Set"
   ]
  },
  {
   "cell_type": "code",
   "execution_count": 89,
   "metadata": {},
   "outputs": [
    {
     "data": {
      "text/html": [
       "<div>\n",
       "<style scoped>\n",
       "    .dataframe tbody tr th:only-of-type {\n",
       "        vertical-align: middle;\n",
       "    }\n",
       "\n",
       "    .dataframe tbody tr th {\n",
       "        vertical-align: top;\n",
       "    }\n",
       "\n",
       "    .dataframe thead th {\n",
       "        text-align: right;\n",
       "    }\n",
       "</style>\n",
       "<table border=\"1\" class=\"dataframe\">\n",
       "  <thead>\n",
       "    <tr style=\"text-align: right;\">\n",
       "      <th></th>\n",
       "      <th>timestamp</th>\n",
       "      <th>value</th>\n",
       "      <th>item</th>\n",
       "    </tr>\n",
       "  </thead>\n",
       "  <tbody>\n",
       "    <tr>\n",
       "      <th>0</th>\n",
       "      <td>2014-11-01 00:00:00</td>\n",
       "      <td>45.605307</td>\n",
       "      <td>client_12</td>\n",
       "    </tr>\n",
       "    <tr>\n",
       "      <th>1</th>\n",
       "      <td>2014-11-01 01:00:00</td>\n",
       "      <td>51.202322</td>\n",
       "      <td>client_12</td>\n",
       "    </tr>\n",
       "    <tr>\n",
       "      <th>2</th>\n",
       "      <td>2014-11-01 02:00:00</td>\n",
       "      <td>45.605307</td>\n",
       "      <td>client_12</td>\n",
       "    </tr>\n",
       "  </tbody>\n",
       "</table>\n",
       "</div>"
      ],
      "text/plain": [
       "             timestamp      value       item\n",
       "0  2014-11-01 00:00:00  45.605307  client_12\n",
       "1  2014-11-01 01:00:00  51.202322  client_12\n",
       "2  2014-11-01 02:00:00  45.605307  client_12"
      ]
     },
     "execution_count": 89,
     "metadata": {},
     "output_type": "execute_result"
    }
   ],
   "source": [
    "validation_df = pd.read_csv('./DATA/validation.csv', names=['timestamp', 'value', 'item'])\n",
    "validation_df.head(3)"
   ]
  },
  {
   "cell_type": "code",
   "execution_count": 90,
   "metadata": {},
   "outputs": [],
   "source": [
    "validation_df = validation_df[(validation_df['timestamp'] >= '2014-11-01') & (validation_df['timestamp'] < '2014-11-02')]"
   ]
  },
  {
   "cell_type": "code",
   "execution_count": 91,
   "metadata": {},
   "outputs": [
    {
     "data": {
      "text/plain": [
       "Index(['timestamp', 'value', 'item'], dtype='object')"
      ]
     },
     "execution_count": 91,
     "metadata": {},
     "output_type": "execute_result"
    }
   ],
   "source": [
    "validation_df.columns"
   ]
  },
  {
   "cell_type": "code",
   "execution_count": 92,
   "metadata": {},
   "outputs": [
    {
     "data": {
      "text/html": [
       "<div>\n",
       "<style scoped>\n",
       "    .dataframe tbody tr th:only-of-type {\n",
       "        vertical-align: middle;\n",
       "    }\n",
       "\n",
       "    .dataframe tbody tr th {\n",
       "        vertical-align: top;\n",
       "    }\n",
       "\n",
       "    .dataframe thead th {\n",
       "        text-align: right;\n",
       "    }\n",
       "</style>\n",
       "<table border=\"1\" class=\"dataframe\">\n",
       "  <thead>\n",
       "    <tr style=\"text-align: right;\">\n",
       "      <th></th>\n",
       "      <th>timestamp</th>\n",
       "      <th>value</th>\n",
       "      <th>item</th>\n",
       "    </tr>\n",
       "  </thead>\n",
       "  <tbody>\n",
       "    <tr>\n",
       "      <th>0</th>\n",
       "      <td>2014-11-01 00:00:00</td>\n",
       "      <td>45.605307</td>\n",
       "      <td>client_12</td>\n",
       "    </tr>\n",
       "    <tr>\n",
       "      <th>1</th>\n",
       "      <td>2014-11-01 01:00:00</td>\n",
       "      <td>51.202322</td>\n",
       "      <td>client_12</td>\n",
       "    </tr>\n",
       "    <tr>\n",
       "      <th>2</th>\n",
       "      <td>2014-11-01 02:00:00</td>\n",
       "      <td>45.605307</td>\n",
       "      <td>client_12</td>\n",
       "    </tr>\n",
       "    <tr>\n",
       "      <th>3</th>\n",
       "      <td>2014-11-01 03:00:00</td>\n",
       "      <td>48.300166</td>\n",
       "      <td>client_12</td>\n",
       "    </tr>\n",
       "    <tr>\n",
       "      <th>4</th>\n",
       "      <td>2014-11-01 04:00:00</td>\n",
       "      <td>45.398010</td>\n",
       "      <td>client_12</td>\n",
       "    </tr>\n",
       "  </tbody>\n",
       "</table>\n",
       "</div>"
      ],
      "text/plain": [
       "             timestamp      value       item\n",
       "0  2014-11-01 00:00:00  45.605307  client_12\n",
       "1  2014-11-01 01:00:00  51.202322  client_12\n",
       "2  2014-11-01 02:00:00  45.605307  client_12\n",
       "3  2014-11-01 03:00:00  48.300166  client_12\n",
       "4  2014-11-01 04:00:00  45.398010  client_12"
      ]
     },
     "execution_count": 92,
     "metadata": {},
     "output_type": "execute_result"
    }
   ],
   "source": [
    "validation_df = validation_df[(validation_df['item'] == 'client_12')]\n",
    "validation_df.head()"
   ]
  },
  {
   "cell_type": "code",
   "execution_count": 93,
   "metadata": {},
   "outputs": [
    {
     "data": {
      "text/plain": [
       "<matplotlib.axes._subplots.AxesSubplot at 0x7fd080deb1d0>"
      ]
     },
     "execution_count": 93,
     "metadata": {},
     "output_type": "execute_result"
    },
    {
     "data": {
      "image/png": "[encoded data removed]",
      "text/plain": [
       "<Figure size 432x288 with 1 Axes>"
      ]
     },
     "metadata": {
      "needs_background": "light"
     },
     "output_type": "display_data"
    }
   ],
   "source": [
    "validation_df.plot()"
   ]
  },
  {
   "cell_type": "code",
   "execution_count": 94,
   "metadata": {},
   "outputs": [
    {
     "data": {
      "text/html": [
       "<div>\n",
       "<style scoped>\n",
       "    .dataframe tbody tr th:only-of-type {\n",
       "        vertical-align: middle;\n",
       "    }\n",
       "\n",
       "    .dataframe tbody tr th {\n",
       "        vertical-align: top;\n",
       "    }\n",
       "\n",
       "    .dataframe thead th {\n",
       "        text-align: right;\n",
       "    }\n",
       "</style>\n",
       "<table border=\"1\" class=\"dataframe\">\n",
       "  <thead>\n",
       "    <tr style=\"text-align: right;\">\n",
       "      <th></th>\n",
       "      <th>Timestamp</th>\n",
       "      <th>Value</th>\n",
       "    </tr>\n",
       "  </thead>\n",
       "  <tbody>\n",
       "    <tr>\n",
       "      <th>0</th>\n",
       "      <td>2014-11-01T00:00:00</td>\n",
       "      <td>38.109570</td>\n",
       "    </tr>\n",
       "    <tr>\n",
       "      <th>1</th>\n",
       "      <td>2014-11-01T01:00:00</td>\n",
       "      <td>32.248226</td>\n",
       "    </tr>\n",
       "    <tr>\n",
       "      <th>2</th>\n",
       "      <td>2014-11-01T02:00:00</td>\n",
       "      <td>29.114925</td>\n",
       "    </tr>\n",
       "    <tr>\n",
       "      <th>3</th>\n",
       "      <td>2014-11-01T03:00:00</td>\n",
       "      <td>20.245989</td>\n",
       "    </tr>\n",
       "    <tr>\n",
       "      <th>4</th>\n",
       "      <td>2014-11-01T04:00:00</td>\n",
       "      <td>15.206353</td>\n",
       "    </tr>\n",
       "  </tbody>\n",
       "</table>\n",
       "</div>"
      ],
      "text/plain": [
       "             Timestamp      Value\n",
       "0  2014-11-01T00:00:00  38.109570\n",
       "1  2014-11-01T01:00:00  32.248226\n",
       "2  2014-11-01T02:00:00  29.114925\n",
       "3  2014-11-01T03:00:00  20.245989\n",
       "4  2014-11-01T04:00:00  15.206353"
      ]
     },
     "execution_count": 94,
     "metadata": {},
     "output_type": "execute_result"
    }
   ],
   "source": [
    "prediction_df_p10 = pd.DataFrame.from_dict(forecastResponse['Forecast']['Predictions']['p10'])\n",
    "prediction_df_p10.head()"
   ]
  },
  {
   "cell_type": "code",
   "execution_count": 95,
   "metadata": {},
   "outputs": [
    {
     "data": {
      "text/plain": [
       "<matplotlib.axes._subplots.AxesSubplot at 0x7fd07a364b70>"
      ]
     },
     "execution_count": 95,
     "metadata": {},
     "output_type": "execute_result"
    },
    {
     "data": {
      "image/png": "[encoded data removed]",
      "text/plain": [
       "<Figure size 432x288 with 1 Axes>"
      ]
     },
     "metadata": {
      "needs_background": "light"
     },
     "output_type": "display_data"
    }
   ],
   "source": [
    "prediction_df_p10.plot()"
   ]
  },
  {
   "cell_type": "code",
   "execution_count": 96,
   "metadata": {},
   "outputs": [],
   "source": [
    "prediction_df_p50 = pd.DataFrame.from_dict(forecastResponse['Forecast']['Predictions']['p50'])\n",
    "prediction_df_p90 = pd.DataFrame.from_dict(forecastResponse['Forecast']['Predictions']['p90'])"
   ]
  },
  {
   "cell_type": "code",
   "execution_count": 97,
   "metadata": {},
   "outputs": [],
   "source": [
    "results_df = pd.DataFrame(columns=['timestamp', 'value', 'source'])"
   ]
  },
  {
   "cell_type": "code",
   "execution_count": 98,
   "metadata": {},
   "outputs": [],
   "source": [
    "for index, row in validation_df.iterrows():\n",
    "    clean_timestamp = dt_parser.parse(row['timestamp'])\n",
    "    results_df = results_df.append({'timestamp' : clean_timestamp , 'value' : row['value'], 'source': 'actual'} , ignore_index=True)"
   ]
  },
  {
   "cell_type": "code",
   "execution_count": 99,
   "metadata": {},
   "outputs": [
    {
     "data": {
      "text/html": [
       "<div>\n",
       "<style scoped>\n",
       "    .dataframe tbody tr th:only-of-type {\n",
       "        vertical-align: middle;\n",
       "    }\n",
       "\n",
       "    .dataframe tbody tr th {\n",
       "        vertical-align: top;\n",
       "    }\n",
       "\n",
       "    .dataframe thead th {\n",
       "        text-align: right;\n",
       "    }\n",
       "</style>\n",
       "<table border=\"1\" class=\"dataframe\">\n",
       "  <thead>\n",
       "    <tr style=\"text-align: right;\">\n",
       "      <th></th>\n",
       "      <th>timestamp</th>\n",
       "      <th>value</th>\n",
       "      <th>source</th>\n",
       "    </tr>\n",
       "  </thead>\n",
       "  <tbody>\n",
       "    <tr>\n",
       "      <th>0</th>\n",
       "      <td>2014-11-01 00:00:00</td>\n",
       "      <td>45.605307</td>\n",
       "      <td>actual</td>\n",
       "    </tr>\n",
       "    <tr>\n",
       "      <th>1</th>\n",
       "      <td>2014-11-01 01:00:00</td>\n",
       "      <td>51.202322</td>\n",
       "      <td>actual</td>\n",
       "    </tr>\n",
       "    <tr>\n",
       "      <th>2</th>\n",
       "      <td>2014-11-01 02:00:00</td>\n",
       "      <td>45.605307</td>\n",
       "      <td>actual</td>\n",
       "    </tr>\n",
       "    <tr>\n",
       "      <th>3</th>\n",
       "      <td>2014-11-01 03:00:00</td>\n",
       "      <td>48.300166</td>\n",
       "      <td>actual</td>\n",
       "    </tr>\n",
       "    <tr>\n",
       "      <th>4</th>\n",
       "      <td>2014-11-01 04:00:00</td>\n",
       "      <td>45.398010</td>\n",
       "      <td>actual</td>\n",
       "    </tr>\n",
       "  </tbody>\n",
       "</table>\n",
       "</div>"
      ],
      "text/plain": [
       "            timestamp      value  source\n",
       "0 2014-11-01 00:00:00  45.605307  actual\n",
       "1 2014-11-01 01:00:00  51.202322  actual\n",
       "2 2014-11-01 02:00:00  45.605307  actual\n",
       "3 2014-11-01 03:00:00  48.300166  actual\n",
       "4 2014-11-01 04:00:00  45.398010  actual"
      ]
     },
     "execution_count": 99,
     "metadata": {},
     "output_type": "execute_result"
    }
   ],
   "source": [
    "results_df.head()"
   ]
  },
  {
   "cell_type": "code",
   "execution_count": 100,
   "metadata": {},
   "outputs": [],
   "source": [
    "for index, row in prediction_df_p10.iterrows():\n",
    "    clean_timestamp = dt_parser.parse(row['Timestamp'])\n",
    "    results_df = results_df.append({'timestamp' : clean_timestamp , 'value' : row['Value'], 'source': 'p10'} , ignore_index=True)\n",
    "for index, row in prediction_df_p50.iterrows():\n",
    "    clean_timestamp = dt_parser.parse(row['Timestamp'])\n",
    "    results_df = results_df.append({'timestamp' : clean_timestamp , 'value' : row['Value'], 'source': 'p50'} , ignore_index=True)\n",
    "for index, row in prediction_df_p90.iterrows():\n",
    "    clean_timestamp = dt_parser.parse(row['Timestamp'])\n",
    "    results_df = results_df.append({'timestamp' : clean_timestamp , 'value' : row['Value'], 'source': 'p90'} , ignore_index=True)"
   ]
  },
  {
   "cell_type": "code",
   "execution_count": 101,
   "metadata": {},
   "outputs": [
    {
     "data": {
      "text/html": [
       "<div>\n",
       "<style scoped>\n",
       "    .dataframe tbody tr th:only-of-type {\n",
       "        vertical-align: middle;\n",
       "    }\n",
       "\n",
       "    .dataframe tbody tr th {\n",
       "        vertical-align: top;\n",
       "    }\n",
       "\n",
       "    .dataframe thead th {\n",
       "        text-align: right;\n",
       "    }\n",
       "</style>\n",
       "<table border=\"1\" class=\"dataframe\">\n",
       "  <thead>\n",
       "    <tr style=\"text-align: right;\">\n",
       "      <th></th>\n",
       "      <th>timestamp</th>\n",
       "      <th>value</th>\n",
       "      <th>source</th>\n",
       "    </tr>\n",
       "  </thead>\n",
       "  <tbody>\n",
       "    <tr>\n",
       "      <th>0</th>\n",
       "      <td>2014-11-01 00:00:00</td>\n",
       "      <td>45.605307</td>\n",
       "      <td>actual</td>\n",
       "    </tr>\n",
       "    <tr>\n",
       "      <th>1</th>\n",
       "      <td>2014-11-01 01:00:00</td>\n",
       "      <td>51.202322</td>\n",
       "      <td>actual</td>\n",
       "    </tr>\n",
       "    <tr>\n",
       "      <th>2</th>\n",
       "      <td>2014-11-01 02:00:00</td>\n",
       "      <td>45.605307</td>\n",
       "      <td>actual</td>\n",
       "    </tr>\n",
       "    <tr>\n",
       "      <th>3</th>\n",
       "      <td>2014-11-01 03:00:00</td>\n",
       "      <td>48.300166</td>\n",
       "      <td>actual</td>\n",
       "    </tr>\n",
       "    <tr>\n",
       "      <th>4</th>\n",
       "      <td>2014-11-01 04:00:00</td>\n",
       "      <td>45.398010</td>\n",
       "      <td>actual</td>\n",
       "    </tr>\n",
       "    <tr>\n",
       "      <th>...</th>\n",
       "      <td>...</td>\n",
       "      <td>...</td>\n",
       "      <td>...</td>\n",
       "    </tr>\n",
       "    <tr>\n",
       "      <th>91</th>\n",
       "      <td>2014-11-01 19:00:00</td>\n",
       "      <td>49.230274</td>\n",
       "      <td>p90</td>\n",
       "    </tr>\n",
       "    <tr>\n",
       "      <th>92</th>\n",
       "      <td>2014-11-01 20:00:00</td>\n",
       "      <td>48.036377</td>\n",
       "      <td>p90</td>\n",
       "    </tr>\n",
       "    <tr>\n",
       "      <th>93</th>\n",
       "      <td>2014-11-01 21:00:00</td>\n",
       "      <td>32.096226</td>\n",
       "      <td>p90</td>\n",
       "    </tr>\n",
       "    <tr>\n",
       "      <th>94</th>\n",
       "      <td>2014-11-01 22:00:00</td>\n",
       "      <td>25.110338</td>\n",
       "      <td>p90</td>\n",
       "    </tr>\n",
       "    <tr>\n",
       "      <th>95</th>\n",
       "      <td>2014-11-01 23:00:00</td>\n",
       "      <td>22.290482</td>\n",
       "      <td>p90</td>\n",
       "    </tr>\n",
       "  </tbody>\n",
       "</table>\n",
       "<p>96 rows × 3 columns</p>\n",
       "</div>"
      ],
      "text/plain": [
       "             timestamp      value  source\n",
       "0  2014-11-01 00:00:00  45.605307  actual\n",
       "1  2014-11-01 01:00:00  51.202322  actual\n",
       "2  2014-11-01 02:00:00  45.605307  actual\n",
       "3  2014-11-01 03:00:00  48.300166  actual\n",
       "4  2014-11-01 04:00:00  45.398010  actual\n",
       "..                 ...        ...     ...\n",
       "91 2014-11-01 19:00:00  49.230274     p90\n",
       "92 2014-11-01 20:00:00  48.036377     p90\n",
       "93 2014-11-01 21:00:00  32.096226     p90\n",
       "94 2014-11-01 22:00:00  25.110338     p90\n",
       "95 2014-11-01 23:00:00  22.290482     p90\n",
       "\n",
       "[96 rows x 3 columns]"
      ]
     },
     "execution_count": 101,
     "metadata": {},
     "output_type": "execute_result"
    }
   ],
   "source": [
    "results_df"
   ]
  },
  {
   "cell_type": "code",
   "execution_count": 102,
   "metadata": {},
   "outputs": [
    {
     "data": {
      "text/html": [
       "<div>\n",
       "<style scoped>\n",
       "    .dataframe tbody tr th:only-of-type {\n",
       "        vertical-align: middle;\n",
       "    }\n",
       "\n",
       "    .dataframe tbody tr th {\n",
       "        vertical-align: top;\n",
       "    }\n",
       "\n",
       "    .dataframe thead th {\n",
       "        text-align: right;\n",
       "    }\n",
       "</style>\n",
       "<table border=\"1\" class=\"dataframe\">\n",
       "  <thead>\n",
       "    <tr style=\"text-align: right;\">\n",
       "      <th>source</th>\n",
       "      <th>actual</th>\n",
       "      <th>p10</th>\n",
       "      <th>p50</th>\n",
       "      <th>p90</th>\n",
       "    </tr>\n",
       "    <tr>\n",
       "      <th>timestamp</th>\n",
       "      <th></th>\n",
       "      <th></th>\n",
       "      <th></th>\n",
       "      <th></th>\n",
       "    </tr>\n",
       "  </thead>\n",
       "  <tbody>\n",
       "    <tr>\n",
       "      <th>2014-11-01 00:00:00</th>\n",
       "      <td>45.605307</td>\n",
       "      <td>38.109570</td>\n",
       "      <td>44.133854</td>\n",
       "      <td>49.089493</td>\n",
       "    </tr>\n",
       "    <tr>\n",
       "      <th>2014-11-01 01:00:00</th>\n",
       "      <td>51.202322</td>\n",
       "      <td>32.248226</td>\n",
       "      <td>37.378513</td>\n",
       "      <td>42.317074</td>\n",
       "    </tr>\n",
       "    <tr>\n",
       "      <th>2014-11-01 02:00:00</th>\n",
       "      <td>45.605307</td>\n",
       "      <td>29.114925</td>\n",
       "      <td>32.856689</td>\n",
       "      <td>38.097000</td>\n",
       "    </tr>\n",
       "    <tr>\n",
       "      <th>2014-11-01 03:00:00</th>\n",
       "      <td>48.300166</td>\n",
       "      <td>20.245989</td>\n",
       "      <td>24.009670</td>\n",
       "      <td>29.173306</td>\n",
       "    </tr>\n",
       "    <tr>\n",
       "      <th>2014-11-01 04:00:00</th>\n",
       "      <td>45.398010</td>\n",
       "      <td>15.206353</td>\n",
       "      <td>18.943827</td>\n",
       "      <td>23.354261</td>\n",
       "    </tr>\n",
       "  </tbody>\n",
       "</table>\n",
       "</div>"
      ],
      "text/plain": [
       "source                  actual        p10        p50        p90\n",
       "timestamp                                                      \n",
       "2014-11-01 00:00:00  45.605307  38.109570  44.133854  49.089493\n",
       "2014-11-01 01:00:00  51.202322  32.248226  37.378513  42.317074\n",
       "2014-11-01 02:00:00  45.605307  29.114925  32.856689  38.097000\n",
       "2014-11-01 03:00:00  48.300166  20.245989  24.009670  29.173306\n",
       "2014-11-01 04:00:00  45.398010  15.206353  18.943827  23.354261"
      ]
     },
     "execution_count": 102,
     "metadata": {},
     "output_type": "execute_result"
    }
   ],
   "source": [
    "pivot_df = results_df.pivot(columns='source', values='value', index=\"timestamp\")\n",
    "pivot_df.head()"
   ]
  },
  {
   "cell_type": "code",
   "execution_count": 103,
   "metadata": {},
   "outputs": [
    {
     "data": {
      "text/plain": [
       "<matplotlib.axes._subplots.AxesSubplot at 0x7fd07a2b9748>"
      ]
     },
     "execution_count": 103,
     "metadata": {},
     "output_type": "execute_result"
    },
    {
     "data": {
      "image/png": "[encoded data removed]",
      "text/plain": [
       "<Figure size 432x288 with 1 Axes>"
      ]
     },
     "metadata": {
      "needs_background": "light"
     },
     "output_type": "display_data"
    }
   ],
   "source": [
    "pivot_df.plot()"
   ]
  }
 ],
 "metadata": {
  "kernelspec": {
   "display_name": "conda_python3",
   "language": "python",
   "name": "conda_python3"
  },
  "language_info": {
   "codemirror_mode": {
    "name": "ipython",
    "version": 3
   },
   "file_extension": ".py",
   "mimetype": "text/x-python",
   "name": "python",
   "nbconvert_exporter": "python",
   "pygments_lexer": "ipython3",
   "version": "3.6.10"
  }
 },
 "nbformat": 4,
 "nbformat_minor": 4
}
